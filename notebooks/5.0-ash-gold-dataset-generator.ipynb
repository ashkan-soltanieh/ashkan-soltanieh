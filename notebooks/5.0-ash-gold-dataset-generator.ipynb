{
 "cells": [
  {
   "cell_type": "markdown",
   "id": "bb9cb6bc",
   "metadata": {},
   "source": [
    "# Gold Dataset Generator\n",
    "<font size=3><strong>Author:</strong> <a href=\"https://www.linkedin.com/in/~ashkan/\" target=\"_blank\">Ashkan Soltanieh</a><br>\n",
    "<strong>Date:</strong> Jan. 15, 2022</font>"
   ]
  },
  {
   "cell_type": "markdown",
   "id": "012be9ac",
   "metadata": {},
   "source": [
    "## Table of Contents\n",
    "\n",
    "<div class=\"alert alert-success mt-20\">\n",
    "    <ul>\n",
    "        <li><a href=\"#Approach\">Approach</a></li>\n",
    "        <li><a href=\"#Merging Area of Burn and Characteristics Data\">Merging Area of Burn and Characteristics Data</a></li>\n",
    "        <li><a href=\"#Duplication Check in Merged Data\">Duplication Check in Merged Data</a></li>\n",
    "        <li><a href=\"#Dealing with Duplicates\">Dealing with Duplicates</a></li>\n",
    "        <li><a href=\"#Quartile Analysis\">Quartile Analysis</a></li>\n",
    "        <li><a href=\"#Metadata\">Metadata</a></li>\n",
    "    </ul>\n",
    "</div>"
   ]
  },
  {
   "cell_type": "markdown",
   "id": "e691e4da",
   "metadata": {},
   "source": [
    "## Approach:\n",
    "So far we have merged and cleaned part of the data. As a quick overview, we have cleaned the two datasets for wildfires, as well as merged and cleaned weather data. Additionally, weather data are aggregated by their daily mean and standard deviation to bring consistency into dataset and alignment with wildfire datasets. The process of cleaning the weather data to create the focus weather dataset based on wildfire date and location and drop the rest of redundancy is completed, and silver dataset contains required aggregated variables for merging datasets.\n",
    "\n",
    "In this notebook, our goal is to merge all dataset and start data preprocessing and exploratory analysis. The keys for merging Area of Burn and characteristics datasets are UID_Fire, and REF_ID, and Date_of_Burn. For merging wildfire and weather data we will be using rounded spatial locations data and date.\n",
    "\n",
    "Finally, we are going to categorize the fire data into five categories. The categories will be selected based on quartile analysis for area of burn data. Ranking wildfire based on different citeria is a common practice. Here is an example of this has been done in Government of BC ([Wildfire Ranking](https://www2.gov.bc.ca/gov/content/safety/wildfire-status/about-bcws/wildfire-response/fire-characteristics/rank))."
   ]
  },
  {
   "cell_type": "code",
   "execution_count": 1,
   "id": "ce0c2fa1",
   "metadata": {},
   "outputs": [],
   "source": [
    "import os\n",
    "import numpy as np\n",
    "import pandas as pd\n",
    "import sys\n",
    "from IPython.display import display\n",
    "sys.path.insert(1, os.path.abspath(os.path.join(os.getcwd(),\"..\",\"src/data\")))\n",
    "from weather import get_rounded_locations"
   ]
  },
  {
   "cell_type": "code",
   "execution_count": 2,
   "id": "97242dee",
   "metadata": {},
   "outputs": [],
   "source": [
    "path_weather = os.path.abspath(os.path.join(os.getcwd(), '../data/processed/weather/silver/silver_weather-daily-mean-std.csv'))\n",
    "path_aob = os.path.abspath(os.path.join(os.getcwd(), '../data/processed/wildfire/silver/silver_AoB.csv'))\n",
    "path_characteristics = os.path.abspath(os.path.join(os.getcwd(), '../data/processed/wildfire/silver/silver_chracteristics.csv'))"
   ]
  },
  {
   "cell_type": "code",
   "execution_count": 3,
   "id": "b26ea77d",
   "metadata": {},
   "outputs": [],
   "source": [
    "df_weather = pd.read_csv(path_weather)\n",
    "df_aob = pd.read_csv(path_aob)\n",
    "df_characteristics = pd.read_csv(path_characteristics)"
   ]
  },
  {
   "cell_type": "markdown",
   "id": "2f18755a",
   "metadata": {},
   "source": [
    "## Merging Area of Burn and Characteristics Data"
   ]
  },
  {
   "cell_type": "code",
   "execution_count": 4,
   "id": "85717d2b",
   "metadata": {},
   "outputs": [
    {
     "data": {
      "text/html": [
       "<div>\n",
       "<style scoped>\n",
       "    .dataframe tbody tr th:only-of-type {\n",
       "        vertical-align: middle;\n",
       "    }\n",
       "\n",
       "    .dataframe tbody tr th {\n",
       "        vertical-align: top;\n",
       "    }\n",
       "\n",
       "    .dataframe thead th {\n",
       "        text-align: right;\n",
       "    }\n",
       "</style>\n",
       "<table border=\"1\" class=\"dataframe\">\n",
       "  <thead>\n",
       "    <tr style=\"text-align: right;\">\n",
       "      <th></th>\n",
       "      <th>UID_Fire</th>\n",
       "      <th>REF_ID</th>\n",
       "      <th>Date</th>\n",
       "      <th>sat</th>\n",
       "      <th>Status</th>\n",
       "      <th>rounded_lat</th>\n",
       "      <th>rounded_lon</th>\n",
       "      <th>lat_mean</th>\n",
       "      <th>lat_std</th>\n",
       "      <th>lon_mean</th>\n",
       "      <th>lon_std</th>\n",
       "      <th>T21_mean</th>\n",
       "      <th>T21_std</th>\n",
       "      <th>T31_mean</th>\n",
       "      <th>T31_std</th>\n",
       "      <th>FRP_mean</th>\n",
       "      <th>FRP_std</th>\n",
       "      <th>conf_mean</th>\n",
       "      <th>conf_std</th>\n",
       "      <th>Total_AoB</th>\n",
       "    </tr>\n",
       "  </thead>\n",
       "  <tbody>\n",
       "    <tr>\n",
       "      <th>0</th>\n",
       "      <td>334</td>\n",
       "      <td>BC-2010-G60081</td>\n",
       "      <td>2010-03-11</td>\n",
       "      <td>A</td>\n",
       "      <td>primary</td>\n",
       "      <td>55.50</td>\n",
       "      <td>-123.75</td>\n",
       "      <td>55.6140</td>\n",
       "      <td>0.000000</td>\n",
       "      <td>-123.8230</td>\n",
       "      <td>0.000000</td>\n",
       "      <td>38.55</td>\n",
       "      <td>0.000000</td>\n",
       "      <td>-6.75</td>\n",
       "      <td>0.000000</td>\n",
       "      <td>17.4</td>\n",
       "      <td>0.000000</td>\n",
       "      <td>0.0</td>\n",
       "      <td>0.000000</td>\n",
       "      <td>0.101448</td>\n",
       "    </tr>\n",
       "    <tr>\n",
       "      <th>1</th>\n",
       "      <td>334</td>\n",
       "      <td>BC-2010-G60081</td>\n",
       "      <td>2010-03-11</td>\n",
       "      <td>A</td>\n",
       "      <td>residual</td>\n",
       "      <td>55.50</td>\n",
       "      <td>-123.75</td>\n",
       "      <td>55.6140</td>\n",
       "      <td>0.000000</td>\n",
       "      <td>-123.8230</td>\n",
       "      <td>0.000000</td>\n",
       "      <td>38.55</td>\n",
       "      <td>0.000000</td>\n",
       "      <td>-6.75</td>\n",
       "      <td>0.000000</td>\n",
       "      <td>17.4</td>\n",
       "      <td>0.000000</td>\n",
       "      <td>0.0</td>\n",
       "      <td>0.000000</td>\n",
       "      <td>0.101448</td>\n",
       "    </tr>\n",
       "    <tr>\n",
       "      <th>2</th>\n",
       "      <td>676</td>\n",
       "      <td>AB-2010-SWF045</td>\n",
       "      <td>2010-03-19</td>\n",
       "      <td>A</td>\n",
       "      <td>primary</td>\n",
       "      <td>55.25</td>\n",
       "      <td>-116.75</td>\n",
       "      <td>55.2865</td>\n",
       "      <td>0.002121</td>\n",
       "      <td>-116.8635</td>\n",
       "      <td>0.012021</td>\n",
       "      <td>47.60</td>\n",
       "      <td>8.131728</td>\n",
       "      <td>-0.20</td>\n",
       "      <td>1.202082</td>\n",
       "      <td>26.5</td>\n",
       "      <td>9.192388</td>\n",
       "      <td>79.5</td>\n",
       "      <td>6.363961</td>\n",
       "      <td>0.019707</td>\n",
       "    </tr>\n",
       "  </tbody>\n",
       "</table>\n",
       "</div>"
      ],
      "text/plain": [
       "   UID_Fire          REF_ID        Date sat    Status  rounded_lat  \\\n",
       "0       334  BC-2010-G60081  2010-03-11   A   primary        55.50   \n",
       "1       334  BC-2010-G60081  2010-03-11   A  residual        55.50   \n",
       "2       676  AB-2010-SWF045  2010-03-19   A   primary        55.25   \n",
       "\n",
       "   rounded_lon  lat_mean   lat_std  lon_mean   lon_std  T21_mean   T21_std  \\\n",
       "0      -123.75   55.6140  0.000000 -123.8230  0.000000     38.55  0.000000   \n",
       "1      -123.75   55.6140  0.000000 -123.8230  0.000000     38.55  0.000000   \n",
       "2      -116.75   55.2865  0.002121 -116.8635  0.012021     47.60  8.131728   \n",
       "\n",
       "   T31_mean   T31_std  FRP_mean   FRP_std  conf_mean  conf_std  Total_AoB  \n",
       "0     -6.75  0.000000      17.4  0.000000        0.0  0.000000   0.101448  \n",
       "1     -6.75  0.000000      17.4  0.000000        0.0  0.000000   0.101448  \n",
       "2     -0.20  1.202082      26.5  9.192388       79.5  6.363961   0.019707  "
      ]
     },
     "execution_count": 4,
     "metadata": {},
     "output_type": "execute_result"
    }
   ],
   "source": [
    "df_aob_merge = df_aob.rename(columns={'Date_of_Burn' : 'Date'}).set_index(['UID_Fire', 'REF_ID', 'Date'])\n",
    "df_characteristics_merge = df_characteristics.set_index(['UID_Fire', 'REF_ID', 'Date'])\n",
    "df_characteristics_aob = df_characteristics_merge.merge(df_aob_merge, on=['UID_Fire', 'REF_ID', 'Date'], how='inner')\n",
    "df_characteristics_aob.reset_index(drop=False, inplace=True)\n",
    "df_characteristics_aob.head(3)"
   ]
  },
  {
   "cell_type": "markdown",
   "id": "df16c328",
   "metadata": {},
   "source": [
    "## Duplication Check in Merged Data\n",
    "To check duplication after merging data we cannot use <code>rounded_lat</code> and <code>rounded_lon</code> data as the original area of burn data are not uniquely identified with any geospatioal data. On the other hand, Fire Status and Satlite data are needed in classification in order to distinguish the status type of the fire and which satelite is being used for detecting fire characteristics."
   ]
  },
  {
   "cell_type": "code",
   "execution_count": 7,
   "id": "2ceee538",
   "metadata": {
    "scrolled": false
   },
   "outputs": [
    {
     "data": {
      "text/plain": [
       "'Duplicated fire data after merging:'"
      ]
     },
     "metadata": {},
     "output_type": "display_data"
    },
    {
     "data": {
      "text/plain": [
       "(array([False,  True]), array([14184,  9614]))"
      ]
     },
     "metadata": {},
     "output_type": "display_data"
    }
   ],
   "source": [
    "df_temp = df_characteristics_aob.set_index(['UID_Fire', 'REF_ID', 'Date', 'Total_AoB', 'Status', 'sat'])\n",
    "display('Duplicated fire data after merging:', np.unique(df_temp.index.duplicated(), return_counts=True))"
   ]
  },
  {
   "cell_type": "markdown",
   "id": "eec26759",
   "metadata": {},
   "source": [
    "## Dealing with Duplicates\n",
    "Observing duplicated indices using <code>['UID_Fire', 'REF_ID', 'Date', 'Total_AoB', 'Status', 'sat']</code> shows that 9,614 number of the records have different rounded latitude and longitude (i.e. belonging to different quater geospatial degree grouping), while referring to the same fire incident. As a result to have more trust-worthy dataset we need to only keep one of the duplicated records and drop the rest. We will be keeping first observation of the duplicated records."
   ]
  },
  {
   "cell_type": "code",
   "execution_count": 50,
   "id": "8c83b21c",
   "metadata": {},
   "outputs": [],
   "source": [
    "df_characteristics_aob = df_characteristics_aob.groupby(['UID_Fire', 'REF_ID', 'Date', 'Total_AoB', 'Status', 'sat'], \n",
    "                                                        axis=0, \n",
    "                                                        as_index=False).first()"
   ]
  },
  {
   "cell_type": "markdown",
   "id": "e3de2819",
   "metadata": {},
   "source": [
    "As expected, no duplication observed after merging in the data."
   ]
  },
  {
   "cell_type": "code",
   "execution_count": 51,
   "id": "d5d74380",
   "metadata": {},
   "outputs": [
    {
     "data": {
      "text/plain": [
       "(14891, 4)"
      ]
     },
     "metadata": {},
     "output_type": "display_data"
    },
    {
     "data": {
      "text/html": [
       "<div>\n",
       "<style scoped>\n",
       "    .dataframe tbody tr th:only-of-type {\n",
       "        vertical-align: middle;\n",
       "    }\n",
       "\n",
       "    .dataframe tbody tr th {\n",
       "        vertical-align: top;\n",
       "    }\n",
       "\n",
       "    .dataframe thead th {\n",
       "        text-align: right;\n",
       "    }\n",
       "</style>\n",
       "<table border=\"1\" class=\"dataframe\">\n",
       "  <thead>\n",
       "    <tr style=\"text-align: right;\">\n",
       "      <th></th>\n",
       "      <th>UID_Fire</th>\n",
       "      <th>REF_ID</th>\n",
       "      <th>Date_of_Burn</th>\n",
       "      <th>Total_AoB</th>\n",
       "    </tr>\n",
       "  </thead>\n",
       "  <tbody>\n",
       "    <tr>\n",
       "      <th>0</th>\n",
       "      <td>100</td>\n",
       "      <td>BC-2011-V30040</td>\n",
       "      <td>2011-05-20</td>\n",
       "      <td>0.021933</td>\n",
       "    </tr>\n",
       "    <tr>\n",
       "      <th>1</th>\n",
       "      <td>100</td>\n",
       "      <td>BC-2014-G80090</td>\n",
       "      <td>2014-05-31</td>\n",
       "      <td>0.107307</td>\n",
       "    </tr>\n",
       "    <tr>\n",
       "      <th>2</th>\n",
       "      <td>1000</td>\n",
       "      <td>AB-2014-HWF124</td>\n",
       "      <td>2014-06-29</td>\n",
       "      <td>0.255955</td>\n",
       "    </tr>\n",
       "  </tbody>\n",
       "</table>\n",
       "</div>"
      ],
      "text/plain": [
       "   UID_Fire          REF_ID Date_of_Burn  Total_AoB\n",
       "0       100  BC-2011-V30040   2011-05-20   0.021933\n",
       "1       100  BC-2014-G80090   2014-05-31   0.107307\n",
       "2      1000  AB-2014-HWF124   2014-06-29   0.255955"
      ]
     },
     "metadata": {},
     "output_type": "display_data"
    },
    {
     "data": {
      "text/plain": [
       "(25442, 19)"
      ]
     },
     "metadata": {},
     "output_type": "display_data"
    },
    {
     "data": {
      "text/html": [
       "<div>\n",
       "<style scoped>\n",
       "    .dataframe tbody tr th:only-of-type {\n",
       "        vertical-align: middle;\n",
       "    }\n",
       "\n",
       "    .dataframe tbody tr th {\n",
       "        vertical-align: top;\n",
       "    }\n",
       "\n",
       "    .dataframe thead th {\n",
       "        text-align: right;\n",
       "    }\n",
       "</style>\n",
       "<table border=\"1\" class=\"dataframe\">\n",
       "  <thead>\n",
       "    <tr style=\"text-align: right;\">\n",
       "      <th></th>\n",
       "      <th>Date</th>\n",
       "      <th>sat</th>\n",
       "      <th>UID_Fire</th>\n",
       "      <th>Status</th>\n",
       "      <th>REF_ID</th>\n",
       "      <th>rounded_lat</th>\n",
       "      <th>rounded_lon</th>\n",
       "      <th>lat_mean</th>\n",
       "      <th>lat_std</th>\n",
       "      <th>lon_mean</th>\n",
       "      <th>lon_std</th>\n",
       "      <th>T21_mean</th>\n",
       "      <th>T21_std</th>\n",
       "      <th>T31_mean</th>\n",
       "      <th>T31_std</th>\n",
       "      <th>FRP_mean</th>\n",
       "      <th>FRP_std</th>\n",
       "      <th>conf_mean</th>\n",
       "      <th>conf_std</th>\n",
       "    </tr>\n",
       "  </thead>\n",
       "  <tbody>\n",
       "    <tr>\n",
       "      <th>0</th>\n",
       "      <td>2010-01-12</td>\n",
       "      <td>A</td>\n",
       "      <td>313</td>\n",
       "      <td>removed</td>\n",
       "      <td>BC-2010-G40151</td>\n",
       "      <td>53.75</td>\n",
       "      <td>-124.25</td>\n",
       "      <td>53.829</td>\n",
       "      <td>0.000000</td>\n",
       "      <td>-124.3320</td>\n",
       "      <td>0.000000</td>\n",
       "      <td>69.75</td>\n",
       "      <td>0.000000</td>\n",
       "      <td>2.45</td>\n",
       "      <td>0.000000</td>\n",
       "      <td>110.7</td>\n",
       "      <td>0.000000</td>\n",
       "      <td>93.0</td>\n",
       "      <td>0.000000</td>\n",
       "    </tr>\n",
       "    <tr>\n",
       "      <th>1</th>\n",
       "      <td>2010-01-12</td>\n",
       "      <td>T</td>\n",
       "      <td>313</td>\n",
       "      <td>removed</td>\n",
       "      <td>BC-2010-G40151</td>\n",
       "      <td>53.75</td>\n",
       "      <td>-124.25</td>\n",
       "      <td>53.832</td>\n",
       "      <td>0.000000</td>\n",
       "      <td>-124.3350</td>\n",
       "      <td>0.000000</td>\n",
       "      <td>44.35</td>\n",
       "      <td>0.000000</td>\n",
       "      <td>0.15</td>\n",
       "      <td>0.000000</td>\n",
       "      <td>82.7</td>\n",
       "      <td>0.000000</td>\n",
       "      <td>64.0</td>\n",
       "      <td>0.000000</td>\n",
       "    </tr>\n",
       "    <tr>\n",
       "      <th>2</th>\n",
       "      <td>2010-01-13</td>\n",
       "      <td>A</td>\n",
       "      <td>313</td>\n",
       "      <td>removed</td>\n",
       "      <td>BC-2010-G40151</td>\n",
       "      <td>53.75</td>\n",
       "      <td>-124.25</td>\n",
       "      <td>53.838</td>\n",
       "      <td>0.001414</td>\n",
       "      <td>-124.3265</td>\n",
       "      <td>0.010607</td>\n",
       "      <td>71.90</td>\n",
       "      <td>8.980256</td>\n",
       "      <td>-3.55</td>\n",
       "      <td>0.424264</td>\n",
       "      <td>63.8</td>\n",
       "      <td>18.526198</td>\n",
       "      <td>81.5</td>\n",
       "      <td>3.535534</td>\n",
       "    </tr>\n",
       "  </tbody>\n",
       "</table>\n",
       "</div>"
      ],
      "text/plain": [
       "         Date sat  UID_Fire   Status          REF_ID  rounded_lat  \\\n",
       "0  2010-01-12   A       313  removed  BC-2010-G40151        53.75   \n",
       "1  2010-01-12   T       313  removed  BC-2010-G40151        53.75   \n",
       "2  2010-01-13   A       313  removed  BC-2010-G40151        53.75   \n",
       "\n",
       "   rounded_lon  lat_mean   lat_std  lon_mean   lon_std  T21_mean   T21_std  \\\n",
       "0      -124.25    53.829  0.000000 -124.3320  0.000000     69.75  0.000000   \n",
       "1      -124.25    53.832  0.000000 -124.3350  0.000000     44.35  0.000000   \n",
       "2      -124.25    53.838  0.001414 -124.3265  0.010607     71.90  8.980256   \n",
       "\n",
       "   T31_mean   T31_std  FRP_mean    FRP_std  conf_mean  conf_std  \n",
       "0      2.45  0.000000     110.7   0.000000       93.0  0.000000  \n",
       "1      0.15  0.000000      82.7   0.000000       64.0  0.000000  \n",
       "2     -3.55  0.424264      63.8  18.526198       81.5  3.535534  "
      ]
     },
     "metadata": {},
     "output_type": "display_data"
    },
    {
     "data": {
      "text/plain": [
       "(14184, 20)"
      ]
     },
     "metadata": {},
     "output_type": "display_data"
    },
    {
     "data": {
      "text/html": [
       "<div>\n",
       "<style scoped>\n",
       "    .dataframe tbody tr th:only-of-type {\n",
       "        vertical-align: middle;\n",
       "    }\n",
       "\n",
       "    .dataframe tbody tr th {\n",
       "        vertical-align: top;\n",
       "    }\n",
       "\n",
       "    .dataframe thead th {\n",
       "        text-align: right;\n",
       "    }\n",
       "</style>\n",
       "<table border=\"1\" class=\"dataframe\">\n",
       "  <thead>\n",
       "    <tr style=\"text-align: right;\">\n",
       "      <th></th>\n",
       "      <th>UID_Fire</th>\n",
       "      <th>REF_ID</th>\n",
       "      <th>Date</th>\n",
       "      <th>Total_AoB</th>\n",
       "      <th>Status</th>\n",
       "      <th>sat</th>\n",
       "      <th>rounded_lat</th>\n",
       "      <th>rounded_lon</th>\n",
       "      <th>lat_mean</th>\n",
       "      <th>lat_std</th>\n",
       "      <th>lon_mean</th>\n",
       "      <th>lon_std</th>\n",
       "      <th>T21_mean</th>\n",
       "      <th>T21_std</th>\n",
       "      <th>T31_mean</th>\n",
       "      <th>T31_std</th>\n",
       "      <th>FRP_mean</th>\n",
       "      <th>FRP_std</th>\n",
       "      <th>conf_mean</th>\n",
       "      <th>conf_std</th>\n",
       "    </tr>\n",
       "  </thead>\n",
       "  <tbody>\n",
       "    <tr>\n",
       "      <th>0</th>\n",
       "      <td>51</td>\n",
       "      <td>BC-2014-G40112</td>\n",
       "      <td>2014-10-24</td>\n",
       "      <td>0.245498</td>\n",
       "      <td>primary</td>\n",
       "      <td>T</td>\n",
       "      <td>54.25</td>\n",
       "      <td>-124.75</td>\n",
       "      <td>54.281</td>\n",
       "      <td>0.000000</td>\n",
       "      <td>-124.8510</td>\n",
       "      <td>0.000000</td>\n",
       "      <td>28.85</td>\n",
       "      <td>0.000000</td>\n",
       "      <td>2.85</td>\n",
       "      <td>0.000000</td>\n",
       "      <td>19.0</td>\n",
       "      <td>0.000000</td>\n",
       "      <td>50.0</td>\n",
       "      <td>0.000000</td>\n",
       "    </tr>\n",
       "    <tr>\n",
       "      <th>1</th>\n",
       "      <td>56</td>\n",
       "      <td>AB-2011-CWF240</td>\n",
       "      <td>2012-05-12</td>\n",
       "      <td>1.594830</td>\n",
       "      <td>primary</td>\n",
       "      <td>T</td>\n",
       "      <td>51.25</td>\n",
       "      <td>-115.00</td>\n",
       "      <td>51.160</td>\n",
       "      <td>0.005657</td>\n",
       "      <td>-114.8985</td>\n",
       "      <td>0.000707</td>\n",
       "      <td>38.65</td>\n",
       "      <td>0.707107</td>\n",
       "      <td>23.05</td>\n",
       "      <td>0.565685</td>\n",
       "      <td>13.3</td>\n",
       "      <td>0.989949</td>\n",
       "      <td>70.5</td>\n",
       "      <td>0.707107</td>\n",
       "    </tr>\n",
       "    <tr>\n",
       "      <th>2</th>\n",
       "      <td>68</td>\n",
       "      <td>BC-2014-C50011</td>\n",
       "      <td>2014-04-12</td>\n",
       "      <td>0.145104</td>\n",
       "      <td>primary</td>\n",
       "      <td>A</td>\n",
       "      <td>52.00</td>\n",
       "      <td>-123.50</td>\n",
       "      <td>52.099</td>\n",
       "      <td>0.000000</td>\n",
       "      <td>-123.4020</td>\n",
       "      <td>0.000000</td>\n",
       "      <td>29.85</td>\n",
       "      <td>0.000000</td>\n",
       "      <td>14.35</td>\n",
       "      <td>0.000000</td>\n",
       "      <td>8.3</td>\n",
       "      <td>0.000000</td>\n",
       "      <td>35.0</td>\n",
       "      <td>0.000000</td>\n",
       "    </tr>\n",
       "  </tbody>\n",
       "</table>\n",
       "</div>"
      ],
      "text/plain": [
       "   UID_Fire          REF_ID        Date  Total_AoB   Status sat  rounded_lat  \\\n",
       "0        51  BC-2014-G40112  2014-10-24   0.245498  primary   T        54.25   \n",
       "1        56  AB-2011-CWF240  2012-05-12   1.594830  primary   T        51.25   \n",
       "2        68  BC-2014-C50011  2014-04-12   0.145104  primary   A        52.00   \n",
       "\n",
       "   rounded_lon  lat_mean   lat_std  lon_mean   lon_std  T21_mean   T21_std  \\\n",
       "0      -124.75    54.281  0.000000 -124.8510  0.000000     28.85  0.000000   \n",
       "1      -115.00    51.160  0.005657 -114.8985  0.000707     38.65  0.707107   \n",
       "2      -123.50    52.099  0.000000 -123.4020  0.000000     29.85  0.000000   \n",
       "\n",
       "   T31_mean   T31_std  FRP_mean   FRP_std  conf_mean  conf_std  \n",
       "0      2.85  0.000000      19.0  0.000000       50.0  0.000000  \n",
       "1     23.05  0.565685      13.3  0.989949       70.5  0.707107  \n",
       "2     14.35  0.000000       8.3  0.000000       35.0  0.000000  "
      ]
     },
     "metadata": {},
     "output_type": "display_data"
    }
   ],
   "source": [
    "display(df_aob.shape, df_aob.head(3))\n",
    "display(df_characteristics.shape, df_characteristics.head(3))\n",
    "display(df_characteristics_aob.shape, df_characteristics_aob.head(3))"
   ]
  },
  {
   "cell_type": "markdown",
   "id": "2ed420f1",
   "metadata": {},
   "source": [
    "Comparison between characteristics and area of burn data shows that 14,184 fire observations have a corresponding area of burn recording. These data will be further refined during exploratory analysis.\n",
    "\n",
    "Here we're just dropping rounded_lat, and rounded_lon data as they're just creating for merging weather and fire tables"
   ]
  },
  {
   "cell_type": "code",
   "execution_count": 59,
   "id": "099f885b",
   "metadata": {
    "scrolled": true
   },
   "outputs": [],
   "source": [
    "df_characteristics_aob_merge = df_characteristics_aob.set_index(['rounded_lat', 'rounded_lon', 'Date'])\n",
    "df_weather_merge = df_weather.rename(columns = {'latitude': 'rounded_lat', 'longitude': 'rounded_lon', 'date':'Date'}).set_index(['rounded_lat', 'rounded_lon', 'Date'])\n",
    "df_characteristics_aob_weather = df_characteristics_aob_merge.merge(df_weather_merge, on=['rounded_lat', 'rounded_lon', 'Date'], how='inner')\n",
    "df_characteristics_aob_weather.reset_index(drop=False, inplace=True)\n",
    "df_characteristics_aob_weather.set_index(['UID_Fire', 'REF_ID', 'Date'], inplace=True)\n",
    "df_characteristics_aob_weather.drop(['rounded_lat', 'rounded_lon'], axis=1, inplace=True)"
   ]
  },
  {
   "cell_type": "code",
   "execution_count": 60,
   "id": "bc4fde99",
   "metadata": {
    "scrolled": true
   },
   "outputs": [
    {
     "data": {
      "text/plain": [
       "Index(['Total_AoB', 'Status', 'sat', 'lat_mean', 'lat_std', 'lon_mean',\n",
       "       'lon_std', 'T21_mean', 'T21_std', 'T31_mean', 'T31_std', 'FRP_mean',\n",
       "       'FRP_std', 'conf_mean', 'conf_std', 't2m_mean', 't2m_std', 'cape_mean',\n",
       "       'cape_std', 'd2m_mean', 'd2m_std', 'tp_mean', 'tp_std', 'tcc_mean',\n",
       "       'tcc_std', 'cvh_mean', 'cvl_mean', 'swvl1_mean', 'swvl1_std',\n",
       "       'wind_speed_mean', 'wind_speed_std'],\n",
       "      dtype='object')"
      ]
     },
     "execution_count": 60,
     "metadata": {},
     "output_type": "execute_result"
    }
   ],
   "source": [
    "df_characteristics_aob_weather.columns"
   ]
  },
  {
   "cell_type": "markdown",
   "id": "536ad5f9",
   "metadata": {},
   "source": [
    "## Quartile Analysis"
   ]
  },
  {
   "cell_type": "markdown",
   "id": "7db9a92f",
   "metadata": {},
   "source": [
    "We couldn't find any categorizing only based on wildfire burn area from the available references and litrature review. Therefore, since the current fire observations are high enough we decided to do fair distribution into five categories using quartile analysis based on quantile limits of Total_AoB data."
   ]
  },
  {
   "cell_type": "code",
   "execution_count": 61,
   "id": "1c9fdea3",
   "metadata": {
    "scrolled": true
   },
   "outputs": [],
   "source": [
    "Q1 = df_characteristics_aob_weather['Total_AoB'].quantile(0.25)\n",
    "median = df_characteristics_aob_weather['Total_AoB'].quantile(0.5)\n",
    "Q3 = df_characteristics_aob_weather['Total_AoB'].quantile(0.75)\n",
    "lower_extreme = Q1 - 1.5 * (Q3 - Q1) if Q1 - 1.5 * (Q3 - Q1) > 0 else 0 \n",
    "upper_extreme = Q3 + 1.5 * (Q3 - Q1)"
   ]
  },
  {
   "cell_type": "code",
   "execution_count": 62,
   "id": "f6b90542",
   "metadata": {},
   "outputs": [
    {
     "data": {
      "text/plain": [
       "'Q1: 0.3492000000019697'"
      ]
     },
     "metadata": {},
     "output_type": "display_data"
    },
    {
     "data": {
      "text/plain": [
       "'median: 1.8710147305133815'"
      ]
     },
     "metadata": {},
     "output_type": "display_data"
    },
    {
     "data": {
      "text/plain": [
       "'Q3: 8.652146501987207'"
      ]
     },
     "metadata": {},
     "output_type": "display_data"
    },
    {
     "data": {
      "text/plain": [
       "'lower_extreme: 0'"
      ]
     },
     "metadata": {},
     "output_type": "display_data"
    },
    {
     "data": {
      "text/plain": [
       "'upper_extreme: 21.106566254965063'"
      ]
     },
     "metadata": {},
     "output_type": "display_data"
    }
   ],
   "source": [
    "display(f\"Q1: {Q1}\", \n",
    "        f\"median: {median}\", \n",
    "        f\"Q3: {Q3}\", \n",
    "        f\"lower_extreme: {lower_extreme}\", \n",
    "        f\"upper_extreme: {upper_extreme}\")"
   ]
  },
  {
   "cell_type": "code",
   "execution_count": 63,
   "id": "803c0198",
   "metadata": {},
   "outputs": [
    {
     "data": {
      "text/plain": [
       "Very Low     3520\n",
       "Moderate     3519\n",
       "Low          3517\n",
       "Very High    2065\n",
       "High         1453\n",
       "Name: AoB_Category, dtype: int64"
      ]
     },
     "execution_count": 63,
     "metadata": {},
     "output_type": "execute_result"
    }
   ],
   "source": [
    "df_characteristics_aob_weather[\"AoB_Category\"] = ''\n",
    "\n",
    "df_characteristics_aob_weather.loc[\n",
    "    (df_characteristics_aob_weather['Total_AoB'] > lower_extreme) &\n",
    "    (df_characteristics_aob_weather['Total_AoB'] <= Q1), 'AoB_Category'] = 'Very Low'\n",
    "\n",
    "df_characteristics_aob_weather.loc[\n",
    "    (df_characteristics_aob_weather['Total_AoB'] > Q1) &\n",
    "    (df_characteristics_aob_weather['Total_AoB'] <= median), 'AoB_Category'] = 'Low'\n",
    "\n",
    "df_characteristics_aob_weather.loc[\n",
    "    (df_characteristics_aob_weather['Total_AoB'] > median) &\n",
    "    (df_characteristics_aob_weather['Total_AoB'] <= Q3), 'AoB_Category'] = 'Moderate'\n",
    "\n",
    "df_characteristics_aob_weather.loc[\n",
    "    (df_characteristics_aob_weather['Total_AoB'] > Q3) &\n",
    "    (df_characteristics_aob_weather['Total_AoB'] <= upper_extreme), 'AoB_Category'] = 'High'\n",
    "\n",
    "df_characteristics_aob_weather.loc[\n",
    "    (df_characteristics_aob_weather['Total_AoB'] > upper_extreme), 'AoB_Category'] = 'Very High'\n",
    "\n",
    "df_characteristics_aob_weather['AoB_Category'].value_counts()"
   ]
  },
  {
   "cell_type": "code",
   "execution_count": 64,
   "id": "ad1883d7",
   "metadata": {},
   "outputs": [],
   "source": [
    "df_characteristics_aob_weather.columns = ['total_aob', 'fire_status', 'satelite', 'lat_mean', 'lat_std',\n",
    "       'lon_mean', 'lon_std', 't21_mean', 't21_std', 't31_mean', 't31_std', 'frp_mean', 'frp_std', 'conf_mean', 'conf_std', 'temp_mean', 'temp_std', 'convective_energy_mean', 'convective_energy_std', 'dewpoint_temp_mean',\n",
    "       'dewpoint_temp_std', 'total_precipitation_mean', 'total_precipitation_std', 'total_cloud_cover_mean', \n",
    "       'total_cloud_cover_std', 'high_veg_cover_mean', 'low_veg_cover_mean', 'soil_water_mean', 'soil_water_std', \n",
    "       'wind_speed_mean', 'wind_speed_std', 'category_aob']"
   ]
  },
  {
   "cell_type": "markdown",
   "id": "3726958e",
   "metadata": {},
   "source": [
    "## Metadata"
   ]
  },
  {
   "cell_type": "code",
   "execution_count": 65,
   "id": "233cf139",
   "metadata": {},
   "outputs": [
    {
     "data": {
      "text/html": [
       "<div>\n",
       "<style scoped>\n",
       "    .dataframe tbody tr th:only-of-type {\n",
       "        vertical-align: middle;\n",
       "    }\n",
       "\n",
       "    .dataframe tbody tr th {\n",
       "        vertical-align: top;\n",
       "    }\n",
       "\n",
       "    .dataframe thead th {\n",
       "        text-align: right;\n",
       "    }\n",
       "</style>\n",
       "<table border=\"1\" class=\"dataframe\">\n",
       "  <thead>\n",
       "    <tr style=\"text-align: right;\">\n",
       "      <th></th>\n",
       "      <th></th>\n",
       "      <th></th>\n",
       "      <th>total_aob</th>\n",
       "      <th>fire_status</th>\n",
       "      <th>satelite</th>\n",
       "      <th>lat_mean</th>\n",
       "      <th>lat_std</th>\n",
       "      <th>lon_mean</th>\n",
       "      <th>lon_std</th>\n",
       "      <th>t21_mean</th>\n",
       "      <th>t21_std</th>\n",
       "      <th>t31_mean</th>\n",
       "      <th>...</th>\n",
       "      <th>total_precipitation_std</th>\n",
       "      <th>total_cloud_cover_mean</th>\n",
       "      <th>total_cloud_cover_std</th>\n",
       "      <th>high_veg_cover_mean</th>\n",
       "      <th>low_veg_cover_mean</th>\n",
       "      <th>soil_water_mean</th>\n",
       "      <th>soil_water_std</th>\n",
       "      <th>wind_speed_mean</th>\n",
       "      <th>wind_speed_std</th>\n",
       "      <th>category_aob</th>\n",
       "    </tr>\n",
       "    <tr>\n",
       "      <th>UID_Fire</th>\n",
       "      <th>REF_ID</th>\n",
       "      <th>Date</th>\n",
       "      <th></th>\n",
       "      <th></th>\n",
       "      <th></th>\n",
       "      <th></th>\n",
       "      <th></th>\n",
       "      <th></th>\n",
       "      <th></th>\n",
       "      <th></th>\n",
       "      <th></th>\n",
       "      <th></th>\n",
       "      <th></th>\n",
       "      <th></th>\n",
       "      <th></th>\n",
       "      <th></th>\n",
       "      <th></th>\n",
       "      <th></th>\n",
       "      <th></th>\n",
       "      <th></th>\n",
       "      <th></th>\n",
       "      <th></th>\n",
       "      <th></th>\n",
       "    </tr>\n",
       "  </thead>\n",
       "  <tbody>\n",
       "    <tr>\n",
       "      <th>51</th>\n",
       "      <th>BC-2014-G40112</th>\n",
       "      <th>2014-10-24</th>\n",
       "      <td>0.245498</td>\n",
       "      <td>primary</td>\n",
       "      <td>T</td>\n",
       "      <td>54.281</td>\n",
       "      <td>0.000000</td>\n",
       "      <td>-124.8510</td>\n",
       "      <td>0.000000</td>\n",
       "      <td>28.85</td>\n",
       "      <td>0.000000</td>\n",
       "      <td>2.85</td>\n",
       "      <td>...</td>\n",
       "      <td>0.000000</td>\n",
       "      <td>0.838529</td>\n",
       "      <td>0.187564</td>\n",
       "      <td>0.981841</td>\n",
       "      <td>0.000504</td>\n",
       "      <td>0.394290</td>\n",
       "      <td>0.005209</td>\n",
       "      <td>2.100145</td>\n",
       "      <td>0.372036</td>\n",
       "      <td>Very Low</td>\n",
       "    </tr>\n",
       "    <tr>\n",
       "      <th>56</th>\n",
       "      <th>AB-2011-CWF240</th>\n",
       "      <th>2012-05-12</th>\n",
       "      <td>1.594830</td>\n",
       "      <td>primary</td>\n",
       "      <td>T</td>\n",
       "      <td>51.160</td>\n",
       "      <td>0.005657</td>\n",
       "      <td>-114.8985</td>\n",
       "      <td>0.000707</td>\n",
       "      <td>38.65</td>\n",
       "      <td>0.707107</td>\n",
       "      <td>23.05</td>\n",
       "      <td>...</td>\n",
       "      <td>0.000000</td>\n",
       "      <td>0.314304</td>\n",
       "      <td>0.386498</td>\n",
       "      <td>0.934903</td>\n",
       "      <td>0.065097</td>\n",
       "      <td>0.375507</td>\n",
       "      <td>0.004740</td>\n",
       "      <td>2.625103</td>\n",
       "      <td>0.524167</td>\n",
       "      <td>Low</td>\n",
       "    </tr>\n",
       "    <tr>\n",
       "      <th rowspan=\"2\" valign=\"top\">68</th>\n",
       "      <th rowspan=\"2\" valign=\"top\">BC-2014-C50011</th>\n",
       "      <th>2014-04-12</th>\n",
       "      <td>0.145104</td>\n",
       "      <td>primary</td>\n",
       "      <td>A</td>\n",
       "      <td>52.099</td>\n",
       "      <td>0.000000</td>\n",
       "      <td>-123.4020</td>\n",
       "      <td>0.000000</td>\n",
       "      <td>29.85</td>\n",
       "      <td>0.000000</td>\n",
       "      <td>14.35</td>\n",
       "      <td>...</td>\n",
       "      <td>0.000012</td>\n",
       "      <td>0.377443</td>\n",
       "      <td>0.275385</td>\n",
       "      <td>0.969969</td>\n",
       "      <td>0.028169</td>\n",
       "      <td>0.323027</td>\n",
       "      <td>0.001149</td>\n",
       "      <td>2.647607</td>\n",
       "      <td>0.683949</td>\n",
       "      <td>Very Low</td>\n",
       "    </tr>\n",
       "    <tr>\n",
       "      <th>2014-04-12</th>\n",
       "      <td>0.145104</td>\n",
       "      <td>primary</td>\n",
       "      <td>T</td>\n",
       "      <td>52.106</td>\n",
       "      <td>0.000000</td>\n",
       "      <td>-123.4070</td>\n",
       "      <td>0.000000</td>\n",
       "      <td>38.25</td>\n",
       "      <td>0.000000</td>\n",
       "      <td>14.55</td>\n",
       "      <td>...</td>\n",
       "      <td>0.000012</td>\n",
       "      <td>0.377443</td>\n",
       "      <td>0.275385</td>\n",
       "      <td>0.969969</td>\n",
       "      <td>0.028169</td>\n",
       "      <td>0.323027</td>\n",
       "      <td>0.001149</td>\n",
       "      <td>2.647607</td>\n",
       "      <td>0.683949</td>\n",
       "      <td>Very Low</td>\n",
       "    </tr>\n",
       "    <tr>\n",
       "      <th>84</th>\n",
       "      <th>BC-2014-C40028</th>\n",
       "      <th>2014-04-28</th>\n",
       "      <td>0.098025</td>\n",
       "      <td>primary</td>\n",
       "      <td>A</td>\n",
       "      <td>51.193</td>\n",
       "      <td>0.000000</td>\n",
       "      <td>-121.5740</td>\n",
       "      <td>0.000000</td>\n",
       "      <td>90.65</td>\n",
       "      <td>0.000000</td>\n",
       "      <td>9.25</td>\n",
       "      <td>...</td>\n",
       "      <td>0.000047</td>\n",
       "      <td>0.365491</td>\n",
       "      <td>0.313924</td>\n",
       "      <td>0.953703</td>\n",
       "      <td>0.046297</td>\n",
       "      <td>0.317802</td>\n",
       "      <td>0.001737</td>\n",
       "      <td>1.338031</td>\n",
       "      <td>0.759403</td>\n",
       "      <td>Very Low</td>\n",
       "    </tr>\n",
       "  </tbody>\n",
       "</table>\n",
       "<p>5 rows × 32 columns</p>\n",
       "</div>"
      ],
      "text/plain": [
       "                                    total_aob fire_status satelite  lat_mean  \\\n",
       "UID_Fire REF_ID         Date                                                   \n",
       "51       BC-2014-G40112 2014-10-24   0.245498     primary        T    54.281   \n",
       "56       AB-2011-CWF240 2012-05-12   1.594830     primary        T    51.160   \n",
       "68       BC-2014-C50011 2014-04-12   0.145104     primary        A    52.099   \n",
       "                        2014-04-12   0.145104     primary        T    52.106   \n",
       "84       BC-2014-C40028 2014-04-28   0.098025     primary        A    51.193   \n",
       "\n",
       "                                     lat_std  lon_mean   lon_std  t21_mean  \\\n",
       "UID_Fire REF_ID         Date                                                 \n",
       "51       BC-2014-G40112 2014-10-24  0.000000 -124.8510  0.000000     28.85   \n",
       "56       AB-2011-CWF240 2012-05-12  0.005657 -114.8985  0.000707     38.65   \n",
       "68       BC-2014-C50011 2014-04-12  0.000000 -123.4020  0.000000     29.85   \n",
       "                        2014-04-12  0.000000 -123.4070  0.000000     38.25   \n",
       "84       BC-2014-C40028 2014-04-28  0.000000 -121.5740  0.000000     90.65   \n",
       "\n",
       "                                     t21_std  t31_mean  ...  \\\n",
       "UID_Fire REF_ID         Date                            ...   \n",
       "51       BC-2014-G40112 2014-10-24  0.000000      2.85  ...   \n",
       "56       AB-2011-CWF240 2012-05-12  0.707107     23.05  ...   \n",
       "68       BC-2014-C50011 2014-04-12  0.000000     14.35  ...   \n",
       "                        2014-04-12  0.000000     14.55  ...   \n",
       "84       BC-2014-C40028 2014-04-28  0.000000      9.25  ...   \n",
       "\n",
       "                                    total_precipitation_std  \\\n",
       "UID_Fire REF_ID         Date                                  \n",
       "51       BC-2014-G40112 2014-10-24                 0.000000   \n",
       "56       AB-2011-CWF240 2012-05-12                 0.000000   \n",
       "68       BC-2014-C50011 2014-04-12                 0.000012   \n",
       "                        2014-04-12                 0.000012   \n",
       "84       BC-2014-C40028 2014-04-28                 0.000047   \n",
       "\n",
       "                                    total_cloud_cover_mean  \\\n",
       "UID_Fire REF_ID         Date                                 \n",
       "51       BC-2014-G40112 2014-10-24                0.838529   \n",
       "56       AB-2011-CWF240 2012-05-12                0.314304   \n",
       "68       BC-2014-C50011 2014-04-12                0.377443   \n",
       "                        2014-04-12                0.377443   \n",
       "84       BC-2014-C40028 2014-04-28                0.365491   \n",
       "\n",
       "                                    total_cloud_cover_std  \\\n",
       "UID_Fire REF_ID         Date                                \n",
       "51       BC-2014-G40112 2014-10-24               0.187564   \n",
       "56       AB-2011-CWF240 2012-05-12               0.386498   \n",
       "68       BC-2014-C50011 2014-04-12               0.275385   \n",
       "                        2014-04-12               0.275385   \n",
       "84       BC-2014-C40028 2014-04-28               0.313924   \n",
       "\n",
       "                                    high_veg_cover_mean  low_veg_cover_mean  \\\n",
       "UID_Fire REF_ID         Date                                                  \n",
       "51       BC-2014-G40112 2014-10-24             0.981841            0.000504   \n",
       "56       AB-2011-CWF240 2012-05-12             0.934903            0.065097   \n",
       "68       BC-2014-C50011 2014-04-12             0.969969            0.028169   \n",
       "                        2014-04-12             0.969969            0.028169   \n",
       "84       BC-2014-C40028 2014-04-28             0.953703            0.046297   \n",
       "\n",
       "                                    soil_water_mean  soil_water_std  \\\n",
       "UID_Fire REF_ID         Date                                          \n",
       "51       BC-2014-G40112 2014-10-24         0.394290        0.005209   \n",
       "56       AB-2011-CWF240 2012-05-12         0.375507        0.004740   \n",
       "68       BC-2014-C50011 2014-04-12         0.323027        0.001149   \n",
       "                        2014-04-12         0.323027        0.001149   \n",
       "84       BC-2014-C40028 2014-04-28         0.317802        0.001737   \n",
       "\n",
       "                                    wind_speed_mean  wind_speed_std  \\\n",
       "UID_Fire REF_ID         Date                                          \n",
       "51       BC-2014-G40112 2014-10-24         2.100145        0.372036   \n",
       "56       AB-2011-CWF240 2012-05-12         2.625103        0.524167   \n",
       "68       BC-2014-C50011 2014-04-12         2.647607        0.683949   \n",
       "                        2014-04-12         2.647607        0.683949   \n",
       "84       BC-2014-C40028 2014-04-28         1.338031        0.759403   \n",
       "\n",
       "                                    category_aob  \n",
       "UID_Fire REF_ID         Date                      \n",
       "51       BC-2014-G40112 2014-10-24      Very Low  \n",
       "56       AB-2011-CWF240 2012-05-12           Low  \n",
       "68       BC-2014-C50011 2014-04-12      Very Low  \n",
       "                        2014-04-12      Very Low  \n",
       "84       BC-2014-C40028 2014-04-28      Very Low  \n",
       "\n",
       "[5 rows x 32 columns]"
      ]
     },
     "metadata": {},
     "output_type": "display_data"
    },
    {
     "data": {
      "text/plain": [
       "(14074, 32)"
      ]
     },
     "metadata": {},
     "output_type": "display_data"
    }
   ],
   "source": [
    "display(df_characteristics_aob_weather.head())\n",
    "display(df_characteristics_aob_weather.shape)"
   ]
  },
  {
   "cell_type": "code",
   "execution_count": 66,
   "id": "cef61866",
   "metadata": {},
   "outputs": [],
   "source": [
    "path_gold = os.path.abspath(\n",
    "        os.path.join(os.getcwd(), \"../data/processed/gold.csv\"))\n",
    "df_characteristics_aob_weather.to_csv(path_gold, index = True)"
   ]
  },
  {
   "cell_type": "markdown",
   "id": "78b88b54",
   "metadata": {},
   "source": [
    "## <h3 align=\"center\"> Copyright © 2022 - All rights reserved by the author.<h3/>"
   ]
  },
  {
   "cell_type": "code",
   "execution_count": null,
   "id": "e700229a",
   "metadata": {},
   "outputs": [],
   "source": []
  }
 ],
 "metadata": {
  "kernelspec": {
   "display_name": "Python 3 (ipykernel)",
   "language": "python",
   "name": "python3"
  },
  "language_info": {
   "codemirror_mode": {
    "name": "ipython",
    "version": 3
   },
   "file_extension": ".py",
   "mimetype": "text/x-python",
   "name": "python",
   "nbconvert_exporter": "python",
   "pygments_lexer": "ipython3",
   "version": "3.9.7"
  }
 },
 "nbformat": 4,
 "nbformat_minor": 5
}
