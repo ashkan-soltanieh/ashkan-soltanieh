{
 "cells": [
  {
   "cell_type": "markdown",
   "id": "bb9cb6bc",
   "metadata": {},
   "source": [
    "# Gold Dataset Generator\n",
    "<font size=3><strong>Author:</strong> Ashkan Soltanieh<br>\n",
    "<strong>Date:</strong> Jan. 15, 2022</font>"
   ]
  },
  {
   "cell_type": "markdown",
   "id": "012be9ac",
   "metadata": {},
   "source": [
    "## Table of Contents\n",
    "\n",
    "<div class=\"alert alert-success mt-20\">\n",
    "    <ul>\n",
    "        <li><a href=\"#Approach\">Approach</a></li>\n",
    "        <li><a href=\"#Quartile Analysis\">Quartile Analysis</a></li>\n",
    "        <li><a href=\"#Metadata\">Metadata</a></li>\n",
    "    </ul>\n",
    "</div>"
   ]
  },
  {
   "cell_type": "markdown",
   "id": "e691e4da",
   "metadata": {},
   "source": [
    "## Approach:\n",
    "So far we have merged and cleaned part of the data. As a quick overview, we have cleaned the two datasets for wildfires, as well as merged and cleaned weather data. Additionally, weather data are aggregated by their daily mean and standard deviation to bring consistency into dataset and alignment with wildfire datasets. The process of cleaning the weather data to create the focus weather dataset based on wildfire date and location and drop the rest of redundancy is completed, and silver dataset contains required aggregated variables for merging datasets.\n",
    "\n",
    "In this notebook, our goal is to merge all dataset and start data preprocessing and exploratory analysis. The keys for merging Area of Burn and characteristics datasets are UID_Fire, and REF_ID, and Date_of_Burn. For merging wildfire and weather data we will be using rounded spatial locations data and date.\n",
    "\n",
    "Finally, we are going to categorize the fire data into five categories. The categories will be selected based on quartile analysis for area of burn data. Ranking wildfire based on different citeria is a common practice. Here is an example of this has been done in Government of BC ([Wildfire Ranking](https://www2.gov.bc.ca/gov/content/safety/wildfire-status/about-bcws/wildfire-response/fire-characteristics/rank))."
   ]
  },
  {
   "cell_type": "code",
   "execution_count": 1,
   "id": "ce0c2fa1",
   "metadata": {},
   "outputs": [],
   "source": [
    "import os\n",
    "import pandas as pd\n",
    "import sys\n",
    "from IPython.display import display\n",
    "sys.path.insert(1, os.path.abspath(os.path.join(os.getcwd(),\"..\",\"src/data\")))\n",
    "from weather import get_rounded_locations"
   ]
  },
  {
   "cell_type": "code",
   "execution_count": 2,
   "id": "97242dee",
   "metadata": {},
   "outputs": [],
   "source": [
    "path_weather = os.path.abspath(os.path.join(os.getcwd(), '../data/processed/weather/silver/silver_weather-daily-mean-std.csv'))\n",
    "path_aob = os.path.abspath(os.path.join(os.getcwd(), '../data/processed/wildfire/silver/silver_AoB.csv'))\n",
    "path_characteristics = os.path.abspath(os.path.join(os.getcwd(), '../data/processed/wildfire/silver/silver_chracteristics.csv'))"
   ]
  },
  {
   "cell_type": "code",
   "execution_count": 3,
   "id": "b26ea77d",
   "metadata": {},
   "outputs": [],
   "source": [
    "df_weather = pd.read_csv(path_weather)\n",
    "df_aob = pd.read_csv(path_aob)\n",
    "df_characteristics = pd.read_csv(path_characteristics)"
   ]
  },
  {
   "cell_type": "code",
   "execution_count": 4,
   "id": "85717d2b",
   "metadata": {},
   "outputs": [],
   "source": [
    "df_aob_merge = df_aob.rename(columns={'Date_of_Burn' : 'Date'}).set_index(['UID_Fire', 'REF_ID', 'Date'])\n",
    "df_characteristics_merge = df_characteristics.set_index(['UID_Fire', 'REF_ID', 'Date'])\n",
    "df_characteristics_aob = df_characteristics_merge.merge(df_aob_merge, on=['UID_Fire', 'REF_ID', 'Date'], how='inner')\n",
    "df_characteristics_aob.reset_index(drop=False, inplace=True)"
   ]
  },
  {
   "cell_type": "code",
   "execution_count": 5,
   "id": "d5d74380",
   "metadata": {},
   "outputs": [
    {
     "data": {
      "text/plain": [
       "(14891, 4)"
      ]
     },
     "metadata": {},
     "output_type": "display_data"
    },
    {
     "data": {
      "text/plain": [
       "(25442, 15)"
      ]
     },
     "metadata": {},
     "output_type": "display_data"
    },
    {
     "data": {
      "text/plain": [
       "(23798, 16)"
      ]
     },
     "metadata": {},
     "output_type": "display_data"
    }
   ],
   "source": [
    "display(df_aob.shape)\n",
    "display(df_characteristics.shape)\n",
    "display(df_characteristics_aob.shape)"
   ]
  },
  {
   "cell_type": "markdown",
   "id": "2ed420f1",
   "metadata": {},
   "source": [
    "Comparison between characteristics and area of burn data shows that 23,798 fire observations have a corresponding area of burn recording. These data will be further refined during exploratory analysis."
   ]
  },
  {
   "cell_type": "code",
   "execution_count": 6,
   "id": "099f885b",
   "metadata": {
    "scrolled": true
   },
   "outputs": [],
   "source": [
    "df_characteristics_aob_merge = df_characteristics_aob.set_index(['rounded_lat', 'rounded_lon', 'Date'])\n",
    "df_weather_merge = df_weather.rename(columns = {'latitude': 'rounded_lat', 'longitude': 'rounded_lon', 'date':'Date'}).set_index(['rounded_lat', 'rounded_lon', 'Date'])\n",
    "df_characteristics_aob_weather = df_characteristics_aob_merge.merge(df_weather_merge, on=['rounded_lat', 'rounded_lon', 'Date'], how='inner')\n",
    "df_characteristics_aob_weather.reset_index(drop=False, inplace=True)\n",
    "df_characteristics_aob_weather.set_index(['UID_Fire', 'REF_ID', 'Date'], inplace=True)"
   ]
  },
  {
   "cell_type": "code",
   "execution_count": 7,
   "id": "bc4fde99",
   "metadata": {
    "scrolled": true
   },
   "outputs": [
    {
     "data": {
      "text/plain": [
       "Index(['rounded_lat', 'rounded_lon', 'sat', 'Status', 'T21_mean', 'T21_std',\n",
       "       'T31_mean', 'T31_std', 'FRP_mean', 'FRP_std', 'conf_mean', 'conf_std',\n",
       "       'Total_AoB', 't2m_mean', 't2m_std', 'cape_mean', 'cape_std', 'd2m_mean',\n",
       "       'd2m_std', 'tp_mean', 'tp_std', 'tcc_mean', 'tcc_std', 'cvh_mean',\n",
       "       'cvl_mean', 'swvl1_mean', 'swvl1_std', 'wind_speed_mean',\n",
       "       'wind_speed_std'],\n",
       "      dtype='object')"
      ]
     },
     "execution_count": 7,
     "metadata": {},
     "output_type": "execute_result"
    }
   ],
   "source": [
    "df_characteristics_aob_weather.columns"
   ]
  },
  {
   "cell_type": "markdown",
   "id": "536ad5f9",
   "metadata": {},
   "source": [
    "## Quartile Analysis"
   ]
  },
  {
   "cell_type": "markdown",
   "id": "7db9a92f",
   "metadata": {},
   "source": [
    "We couldn't find any categorizing only based on wildfire burn area from the available references and litrature review. Therefore, since the current fire observations are high enough we decided to do fair distribution into five categories using quartile analysis based on quantile limits of Total_AoB data."
   ]
  },
  {
   "cell_type": "code",
   "execution_count": 8,
   "id": "1c9fdea3",
   "metadata": {
    "scrolled": true
   },
   "outputs": [],
   "source": [
    "Q1 = df_characteristics_aob_weather['Total_AoB'].quantile(0.25)\n",
    "median = df_characteristics_aob_weather['Total_AoB'].quantile(0.5)\n",
    "Q3 = df_characteristics_aob_weather['Total_AoB'].quantile(0.75)\n",
    "lower_extreme = Q1 - 1.5 * (Q3 - Q1) if Q1 - 1.5 * (Q3 - Q1) > 0 else 0 \n",
    "upper_extreme = Q3 + 1.5 * (Q3 - Q1)"
   ]
  },
  {
   "cell_type": "code",
   "execution_count": 27,
   "id": "f6b90542",
   "metadata": {},
   "outputs": [
    {
     "data": {
      "text/plain": [
       "'Q1: 0.8766504910912092'"
      ]
     },
     "metadata": {},
     "output_type": "display_data"
    },
    {
     "data": {
      "text/plain": [
       "'median: 5.785309025780867'"
      ]
     },
     "metadata": {},
     "output_type": "display_data"
    },
    {
     "data": {
      "text/plain": [
       "'Q3: 33.80179223576056'"
      ]
     },
     "metadata": {},
     "output_type": "display_data"
    },
    {
     "data": {
      "text/plain": [
       "'lower_extreme: 0'"
      ]
     },
     "metadata": {},
     "output_type": "display_data"
    },
    {
     "data": {
      "text/plain": [
       "'upper_extreme: 83.18950485276457'"
      ]
     },
     "metadata": {},
     "output_type": "display_data"
    }
   ],
   "source": [
    "display(f\"Q1: {Q1}\", \n",
    "        f\"median: {median}\", \n",
    "        f\"Q3: {Q3}\", \n",
    "        f\"lower_extreme: {lower_extreme}\", \n",
    "        f\"upper_extreme: {upper_extreme}\")"
   ]
  },
  {
   "cell_type": "code",
   "execution_count": 9,
   "id": "803c0198",
   "metadata": {},
   "outputs": [
    {
     "data": {
      "text/plain": [
       "Low          5916\n",
       "Very Low     5915\n",
       "Moderate     5915\n",
       "High         3115\n",
       "Very High    2799\n",
       "Name: AoB_Category, dtype: int64"
      ]
     },
     "execution_count": 9,
     "metadata": {},
     "output_type": "execute_result"
    }
   ],
   "source": [
    "df_characteristics_aob_weather[\"AoB_Category\"] = ''\n",
    "\n",
    "df_characteristics_aob_weather.loc[\n",
    "    (df_characteristics_aob_weather['Total_AoB'] > lower_extreme) &\n",
    "    (df_characteristics_aob_weather['Total_AoB'] <= Q1), 'AoB_Category'] = 'Very Low'\n",
    "\n",
    "df_characteristics_aob_weather.loc[\n",
    "    (df_characteristics_aob_weather['Total_AoB'] > Q1) &\n",
    "    (df_characteristics_aob_weather['Total_AoB'] <= median), 'AoB_Category'] = 'Low'\n",
    "\n",
    "df_characteristics_aob_weather.loc[\n",
    "    (df_characteristics_aob_weather['Total_AoB'] > median) &\n",
    "    (df_characteristics_aob_weather['Total_AoB'] <= Q3), 'AoB_Category'] = 'Moderate'\n",
    "\n",
    "df_characteristics_aob_weather.loc[\n",
    "    (df_characteristics_aob_weather['Total_AoB'] > Q3) &\n",
    "    (df_characteristics_aob_weather['Total_AoB'] <= upper_extreme), 'AoB_Category'] = 'High'\n",
    "\n",
    "df_characteristics_aob_weather.loc[\n",
    "    (df_characteristics_aob_weather['Total_AoB'] > upper_extreme), 'AoB_Category'] = 'Very High'\n",
    "\n",
    "df_characteristics_aob_weather['AoB_Category'].value_counts()"
   ]
  },
  {
   "cell_type": "code",
   "execution_count": 10,
   "id": "ad1883d7",
   "metadata": {},
   "outputs": [],
   "source": [
    "df_characteristics_aob_weather.columns = ['lat', 'lon', 'satelite', 'fire_status', 't21_mean', 't21_std',\n",
    "       't31_mean', 't31_std', 'frp_mean', 'frp_std', 'conf_mean', 'conf_std','total_aob', 'temp_mean', 'temp_std', 'convective_energy_mean', 'convective_energy_std', 'dewpoint_temp_mean',\n",
    "       'dewpoint_temp_std', 'total_precipitation_mean', 'total_precipitation_std', 'total_cloud_cover_mean', 'total_cloud_cover_std', 'high_veg_cover_mean',\n",
    "       'low_veg_cover_mean', 'soil_water_mean', 'soil_water_std', 'wind_speed_mean',\n",
    "       'wind_speed_std', 'category_aob']"
   ]
  },
  {
   "cell_type": "markdown",
   "id": "3726958e",
   "metadata": {},
   "source": [
    "## Metadata"
   ]
  },
  {
   "cell_type": "code",
   "execution_count": 11,
   "id": "233cf139",
   "metadata": {},
   "outputs": [
    {
     "data": {
      "text/html": [
       "<div>\n",
       "<style scoped>\n",
       "    .dataframe tbody tr th:only-of-type {\n",
       "        vertical-align: middle;\n",
       "    }\n",
       "\n",
       "    .dataframe tbody tr th {\n",
       "        vertical-align: top;\n",
       "    }\n",
       "\n",
       "    .dataframe thead th {\n",
       "        text-align: right;\n",
       "    }\n",
       "</style>\n",
       "<table border=\"1\" class=\"dataframe\">\n",
       "  <thead>\n",
       "    <tr style=\"text-align: right;\">\n",
       "      <th></th>\n",
       "      <th></th>\n",
       "      <th></th>\n",
       "      <th>lat</th>\n",
       "      <th>lon</th>\n",
       "      <th>satelite</th>\n",
       "      <th>fire_status</th>\n",
       "      <th>t21_mean</th>\n",
       "      <th>t21_std</th>\n",
       "      <th>t31_mean</th>\n",
       "      <th>t31_std</th>\n",
       "      <th>frp_mean</th>\n",
       "      <th>frp_std</th>\n",
       "      <th>...</th>\n",
       "      <th>total_precipitation_std</th>\n",
       "      <th>total_cloud_cover_mean</th>\n",
       "      <th>total_cloud_cover_std</th>\n",
       "      <th>high_veg_cover_mean</th>\n",
       "      <th>low_veg_cover_mean</th>\n",
       "      <th>soil_water_mean</th>\n",
       "      <th>soil_water_std</th>\n",
       "      <th>wind_speed_mean</th>\n",
       "      <th>wind_speed_std</th>\n",
       "      <th>category_aob</th>\n",
       "    </tr>\n",
       "    <tr>\n",
       "      <th>UID_Fire</th>\n",
       "      <th>REF_ID</th>\n",
       "      <th>Date</th>\n",
       "      <th></th>\n",
       "      <th></th>\n",
       "      <th></th>\n",
       "      <th></th>\n",
       "      <th></th>\n",
       "      <th></th>\n",
       "      <th></th>\n",
       "      <th></th>\n",
       "      <th></th>\n",
       "      <th></th>\n",
       "      <th></th>\n",
       "      <th></th>\n",
       "      <th></th>\n",
       "      <th></th>\n",
       "      <th></th>\n",
       "      <th></th>\n",
       "      <th></th>\n",
       "      <th></th>\n",
       "      <th></th>\n",
       "      <th></th>\n",
       "      <th></th>\n",
       "    </tr>\n",
       "  </thead>\n",
       "  <tbody>\n",
       "    <tr>\n",
       "      <th rowspan=\"2\" valign=\"top\">334</th>\n",
       "      <th rowspan=\"2\" valign=\"top\">BC-2010-G60081</th>\n",
       "      <th>2010-03-11</th>\n",
       "      <td>55.50</td>\n",
       "      <td>-123.75</td>\n",
       "      <td>A</td>\n",
       "      <td>primary</td>\n",
       "      <td>38.550000</td>\n",
       "      <td>0.000000</td>\n",
       "      <td>-6.750000</td>\n",
       "      <td>0.000000</td>\n",
       "      <td>17.400000</td>\n",
       "      <td>0.000000</td>\n",
       "      <td>...</td>\n",
       "      <td>0.000068</td>\n",
       "      <td>0.968827</td>\n",
       "      <td>0.091779</td>\n",
       "      <td>0.998444</td>\n",
       "      <td>0.000397</td>\n",
       "      <td>0.324388</td>\n",
       "      <td>0.000648</td>\n",
       "      <td>4.064986</td>\n",
       "      <td>1.167655</td>\n",
       "      <td>Very Low</td>\n",
       "    </tr>\n",
       "    <tr>\n",
       "      <th>2010-03-11</th>\n",
       "      <td>55.50</td>\n",
       "      <td>-123.75</td>\n",
       "      <td>A</td>\n",
       "      <td>residual</td>\n",
       "      <td>38.550000</td>\n",
       "      <td>0.000000</td>\n",
       "      <td>-6.750000</td>\n",
       "      <td>0.000000</td>\n",
       "      <td>17.400000</td>\n",
       "      <td>0.000000</td>\n",
       "      <td>...</td>\n",
       "      <td>0.000068</td>\n",
       "      <td>0.968827</td>\n",
       "      <td>0.091779</td>\n",
       "      <td>0.998444</td>\n",
       "      <td>0.000397</td>\n",
       "      <td>0.324388</td>\n",
       "      <td>0.000648</td>\n",
       "      <td>4.064986</td>\n",
       "      <td>1.167655</td>\n",
       "      <td>Very Low</td>\n",
       "    </tr>\n",
       "    <tr>\n",
       "      <th rowspan=\"2\" valign=\"top\">676</th>\n",
       "      <th rowspan=\"2\" valign=\"top\">AB-2010-SWF045</th>\n",
       "      <th>2010-03-19</th>\n",
       "      <td>55.25</td>\n",
       "      <td>-116.75</td>\n",
       "      <td>A</td>\n",
       "      <td>primary</td>\n",
       "      <td>47.600000</td>\n",
       "      <td>8.131728</td>\n",
       "      <td>-0.200000</td>\n",
       "      <td>1.202082</td>\n",
       "      <td>26.500000</td>\n",
       "      <td>9.192388</td>\n",
       "      <td>...</td>\n",
       "      <td>0.000001</td>\n",
       "      <td>0.230681</td>\n",
       "      <td>0.338133</td>\n",
       "      <td>0.929532</td>\n",
       "      <td>0.051989</td>\n",
       "      <td>0.385003</td>\n",
       "      <td>0.001202</td>\n",
       "      <td>3.088960</td>\n",
       "      <td>0.954334</td>\n",
       "      <td>Very Low</td>\n",
       "    </tr>\n",
       "    <tr>\n",
       "      <th>2010-03-19</th>\n",
       "      <td>55.25</td>\n",
       "      <td>-116.75</td>\n",
       "      <td>T</td>\n",
       "      <td>primary</td>\n",
       "      <td>44.916667</td>\n",
       "      <td>10.227577</td>\n",
       "      <td>-1.383333</td>\n",
       "      <td>2.458319</td>\n",
       "      <td>88.066667</td>\n",
       "      <td>30.624391</td>\n",
       "      <td>...</td>\n",
       "      <td>0.000001</td>\n",
       "      <td>0.230681</td>\n",
       "      <td>0.338133</td>\n",
       "      <td>0.929532</td>\n",
       "      <td>0.051989</td>\n",
       "      <td>0.385003</td>\n",
       "      <td>0.001202</td>\n",
       "      <td>3.088960</td>\n",
       "      <td>0.954334</td>\n",
       "      <td>Very Low</td>\n",
       "    </tr>\n",
       "    <tr>\n",
       "      <th>677</th>\n",
       "      <th>AB-2010-SWF049</th>\n",
       "      <th>2010-03-19</th>\n",
       "      <td>55.25</td>\n",
       "      <td>-116.75</td>\n",
       "      <td>A</td>\n",
       "      <td>primary</td>\n",
       "      <td>52.700000</td>\n",
       "      <td>15.344217</td>\n",
       "      <td>-0.200000</td>\n",
       "      <td>1.202082</td>\n",
       "      <td>33.750000</td>\n",
       "      <td>19.445436</td>\n",
       "      <td>...</td>\n",
       "      <td>0.000001</td>\n",
       "      <td>0.230681</td>\n",
       "      <td>0.338133</td>\n",
       "      <td>0.929532</td>\n",
       "      <td>0.051989</td>\n",
       "      <td>0.385003</td>\n",
       "      <td>0.001202</td>\n",
       "      <td>3.088960</td>\n",
       "      <td>0.954334</td>\n",
       "      <td>Very Low</td>\n",
       "    </tr>\n",
       "  </tbody>\n",
       "</table>\n",
       "<p>5 rows × 30 columns</p>\n",
       "</div>"
      ],
      "text/plain": [
       "                                      lat     lon satelite fire_status  \\\n",
       "UID_Fire REF_ID         Date                                             \n",
       "334      BC-2010-G60081 2010-03-11  55.50 -123.75        A     primary   \n",
       "                        2010-03-11  55.50 -123.75        A    residual   \n",
       "676      AB-2010-SWF045 2010-03-19  55.25 -116.75        A     primary   \n",
       "                        2010-03-19  55.25 -116.75        T     primary   \n",
       "677      AB-2010-SWF049 2010-03-19  55.25 -116.75        A     primary   \n",
       "\n",
       "                                     t21_mean    t21_std  t31_mean   t31_std  \\\n",
       "UID_Fire REF_ID         Date                                                   \n",
       "334      BC-2010-G60081 2010-03-11  38.550000   0.000000 -6.750000  0.000000   \n",
       "                        2010-03-11  38.550000   0.000000 -6.750000  0.000000   \n",
       "676      AB-2010-SWF045 2010-03-19  47.600000   8.131728 -0.200000  1.202082   \n",
       "                        2010-03-19  44.916667  10.227577 -1.383333  2.458319   \n",
       "677      AB-2010-SWF049 2010-03-19  52.700000  15.344217 -0.200000  1.202082   \n",
       "\n",
       "                                     frp_mean    frp_std  ...  \\\n",
       "UID_Fire REF_ID         Date                              ...   \n",
       "334      BC-2010-G60081 2010-03-11  17.400000   0.000000  ...   \n",
       "                        2010-03-11  17.400000   0.000000  ...   \n",
       "676      AB-2010-SWF045 2010-03-19  26.500000   9.192388  ...   \n",
       "                        2010-03-19  88.066667  30.624391  ...   \n",
       "677      AB-2010-SWF049 2010-03-19  33.750000  19.445436  ...   \n",
       "\n",
       "                                    total_precipitation_std  \\\n",
       "UID_Fire REF_ID         Date                                  \n",
       "334      BC-2010-G60081 2010-03-11                 0.000068   \n",
       "                        2010-03-11                 0.000068   \n",
       "676      AB-2010-SWF045 2010-03-19                 0.000001   \n",
       "                        2010-03-19                 0.000001   \n",
       "677      AB-2010-SWF049 2010-03-19                 0.000001   \n",
       "\n",
       "                                    total_cloud_cover_mean  \\\n",
       "UID_Fire REF_ID         Date                                 \n",
       "334      BC-2010-G60081 2010-03-11                0.968827   \n",
       "                        2010-03-11                0.968827   \n",
       "676      AB-2010-SWF045 2010-03-19                0.230681   \n",
       "                        2010-03-19                0.230681   \n",
       "677      AB-2010-SWF049 2010-03-19                0.230681   \n",
       "\n",
       "                                    total_cloud_cover_std  \\\n",
       "UID_Fire REF_ID         Date                                \n",
       "334      BC-2010-G60081 2010-03-11               0.091779   \n",
       "                        2010-03-11               0.091779   \n",
       "676      AB-2010-SWF045 2010-03-19               0.338133   \n",
       "                        2010-03-19               0.338133   \n",
       "677      AB-2010-SWF049 2010-03-19               0.338133   \n",
       "\n",
       "                                    high_veg_cover_mean  low_veg_cover_mean  \\\n",
       "UID_Fire REF_ID         Date                                                  \n",
       "334      BC-2010-G60081 2010-03-11             0.998444            0.000397   \n",
       "                        2010-03-11             0.998444            0.000397   \n",
       "676      AB-2010-SWF045 2010-03-19             0.929532            0.051989   \n",
       "                        2010-03-19             0.929532            0.051989   \n",
       "677      AB-2010-SWF049 2010-03-19             0.929532            0.051989   \n",
       "\n",
       "                                    soil_water_mean  soil_water_std  \\\n",
       "UID_Fire REF_ID         Date                                          \n",
       "334      BC-2010-G60081 2010-03-11         0.324388        0.000648   \n",
       "                        2010-03-11         0.324388        0.000648   \n",
       "676      AB-2010-SWF045 2010-03-19         0.385003        0.001202   \n",
       "                        2010-03-19         0.385003        0.001202   \n",
       "677      AB-2010-SWF049 2010-03-19         0.385003        0.001202   \n",
       "\n",
       "                                    wind_speed_mean  wind_speed_std  \\\n",
       "UID_Fire REF_ID         Date                                          \n",
       "334      BC-2010-G60081 2010-03-11         4.064986        1.167655   \n",
       "                        2010-03-11         4.064986        1.167655   \n",
       "676      AB-2010-SWF045 2010-03-19         3.088960        0.954334   \n",
       "                        2010-03-19         3.088960        0.954334   \n",
       "677      AB-2010-SWF049 2010-03-19         3.088960        0.954334   \n",
       "\n",
       "                                    category_aob  \n",
       "UID_Fire REF_ID         Date                      \n",
       "334      BC-2010-G60081 2010-03-11      Very Low  \n",
       "                        2010-03-11      Very Low  \n",
       "676      AB-2010-SWF045 2010-03-19      Very Low  \n",
       "                        2010-03-19      Very Low  \n",
       "677      AB-2010-SWF049 2010-03-19      Very Low  \n",
       "\n",
       "[5 rows x 30 columns]"
      ]
     },
     "metadata": {},
     "output_type": "display_data"
    },
    {
     "data": {
      "text/plain": [
       "(23660, 30)"
      ]
     },
     "metadata": {},
     "output_type": "display_data"
    }
   ],
   "source": [
    "display(df_characteristics_aob_weather.head())\n",
    "display(df_characteristics_aob_weather.shape)"
   ]
  },
  {
   "cell_type": "code",
   "execution_count": 12,
   "id": "cef61866",
   "metadata": {},
   "outputs": [],
   "source": [
    "path_gold = os.path.abspath(\n",
    "        os.path.join(os.getcwd(), \"../data/processed/gold_wildfire_weather_merged.csv\"))\n",
    "df_characteristics_aob_weather.to_csv(path_gold, index = True)"
   ]
  },
  {
   "cell_type": "code",
   "execution_count": null,
   "id": "b8d4e324",
   "metadata": {},
   "outputs": [],
   "source": []
  }
 ],
 "metadata": {
  "kernelspec": {
   "display_name": "Python 3 (ipykernel)",
   "language": "python",
   "name": "python3"
  },
  "language_info": {
   "codemirror_mode": {
    "name": "ipython",
    "version": 3
   },
   "file_extension": ".py",
   "mimetype": "text/x-python",
   "name": "python",
   "nbconvert_exporter": "python",
   "pygments_lexer": "ipython3",
   "version": "3.9.7"
  }
 },
 "nbformat": 4,
 "nbformat_minor": 5
}
