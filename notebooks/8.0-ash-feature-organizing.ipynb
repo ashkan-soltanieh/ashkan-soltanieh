{
 "cells": [
  {
   "cell_type": "markdown",
   "id": "7c88c8cd",
   "metadata": {},
   "source": [
    "# Feature Organizing\n",
    "<font size=3><strong>Author:</strong> <a href=\"https://www.linkedin.com/in/~ashkan/\" target=\"_blank\">Ashkan Soltanieh</a><br>\n",
    "<strong>Date:</strong> Jan. 27, 2022</font>"
   ]
  },
  {
   "cell_type": "markdown",
   "id": "af0f2268",
   "metadata": {},
   "source": [
    "## Table of Contents\n",
    "\n",
    "<div class=\"alert alert-success mt-15\">\n",
    "    <ul>\n",
    "        <li class=\"list-unstyled\"><a href=\"#Approach\">Approach</a></li>\n",
    "        <li class=\"list-unstyled\"><a href=\"#Clustering the Geographic Coordinate Data using DBSCAN\">Clustering the Geographic Coordinate Data using DBSCAN</a></li>\n",
    "        <li class=\"list-unstyled\"><a href=\"#Plotting Clustered Fire Coordinates\">Plotting Clustered Fire Coordinates</a></li>\n",
    "        <li class=\"list-unstyled\"><a href=\"#Feature Organizing\">Feature Organizing</a></li>\n",
    "    </ul>\n",
    "</div>"
   ]
  },
  {
   "cell_type": "markdown",
   "id": "90e2a402",
   "metadata": {},
   "source": [
    "## Approach\n",
    "Based on the cleaned and finalized gold data we've gathered so far we have over 30 variables. In this notebook we will be normalizing them using sk-learn StandardScaler. But first, we need to group the latitude and longitude data and bring them into the groups using DBSCAN Clustering. We're expectiong to have arbiterary shaped clusters with potential outliers and for this reason using Density-Based clustering will be a better approach for groupint the geo-spatial data that we have."
   ]
  },
  {
   "cell_type": "code",
   "execution_count": 4,
   "id": "994acf33",
   "metadata": {},
   "outputs": [],
   "source": [
    "import os\n",
    "import sys\n",
    "import pandas as pd\n",
    "import numpy as np\n",
    "import folium\n",
    "from folium.plugins import MarkerCluster\n",
    "from folium.plugins import MousePosition\n",
    "from sklearn.preprocessing import LabelEncoder\n",
    "from sklearn.pipeline import make_pipeline\n",
    "from sklearn.preprocessing import StandardScaler\n",
    "from sklearn.cluster import DBSCAN\n",
    "import matplotlib.pyplot as plt\n",
    "from sklearn.neighbors import NearestNeighbors"
   ]
  },
  {
   "cell_type": "code",
   "execution_count": 5,
   "id": "bd9f2ac1",
   "metadata": {
    "scrolled": true
   },
   "outputs": [
    {
     "data": {
      "text/plain": [
       "(11531, 36)"
      ]
     },
     "metadata": {},
     "output_type": "display_data"
    },
    {
     "data": {
      "text/plain": [
       "Index(['UID_Fire', 'REF_ID', 'Date', 'total_aob', 'satelite', 'lat_mean',\n",
       "       'lat_std', 'lon_mean', 'lon_std', 't21_mean', 't21_std', 't31_mean',\n",
       "       't31_std', 'frp_mean', 'frp_std', 'conf_mean', 'conf_std', 'temp_mean',\n",
       "       'temp_std', 'convective_energy_mean', 'convective_energy_std',\n",
       "       'dewpoint_temp_mean', 'dewpoint_temp_std', 'total_precipitation_mean',\n",
       "       'total_precipitation_std', 'total_cloud_cover_mean',\n",
       "       'total_cloud_cover_std', 'high_veg_cover_mean', 'low_veg_cover_mean',\n",
       "       'soil_water_mean', 'soil_water_std', 'wind_speed_mean',\n",
       "       'wind_speed_std', 'category_aob', 'month', 'year'],\n",
       "      dtype='object')"
      ]
     },
     "metadata": {},
     "output_type": "display_data"
    }
   ],
   "source": [
    "path = os.path.abspath(\n",
    "        os.path.join(os.getcwd(), \"../data/processed/gold_primary-only.csv\"))\n",
    "df = pd.read_csv(path, parse_dates=['Date'])\n",
    "display(df.shape)\n",
    "display(df.columns)"
   ]
  },
  {
   "cell_type": "markdown",
   "id": "1f060f1b",
   "metadata": {},
   "source": [
    "## Clustering the Geographic Coordinate Data using DBSCAN"
   ]
  },
  {
   "cell_type": "markdown",
   "id": "cb446277",
   "metadata": {},
   "source": [
    "Refering to an article by Tara Mullin [DBSCAN Parameter Estimation Using Python](https://medium.com/@tarammullin/dbscan-parameter-estimation-ff8330e3a3bd) the parameters for DBSCAN clustering in this study are as follow:\n",
    "> <code>min_sample</code>: Since the subset dataset is a 2-dimension dataset we select the min_samples to be 4! i.e. (2 x dim).\n",
    "\n",
    "><code>eps</code>: Plotting sorted the average distance between each point and its n_neighbors using NearestNeighbors class from Scikit-Learn showed that eps value should be in range 0.13 - 0.15 (he value of max curvature). Thus, 0.14 is selected for eps."
   ]
  },
  {
   "cell_type": "markdown",
   "id": "d3959d15",
   "metadata": {},
   "source": [
    "### Latitude and Longitude data normalizing"
   ]
  },
  {
   "cell_type": "code",
   "execution_count": 6,
   "id": "2b9e4d69",
   "metadata": {},
   "outputs": [],
   "source": [
    "#select data for clustering and normalizing them\n",
    "X = df[['lat_mean', 'lon_mean']].to_numpy()\n",
    "scaler = StandardScaler()\n",
    "scaled_X = scaler.fit_transform(X)"
   ]
  },
  {
   "cell_type": "markdown",
   "id": "25a02648",
   "metadata": {},
   "source": [
    "### Selecting eps parameter value"
   ]
  },
  {
   "cell_type": "code",
   "execution_count": 7,
   "id": "339d9adb",
   "metadata": {},
   "outputs": [
    {
     "data": {
      "image/png": "[encoded data removed]",
      "text/plain": [
       "<Figure size 432x288 with 1 Axes>"
      ]
     },
     "metadata": {
      "needs_background": "light"
     },
     "output_type": "display_data"
    }
   ],
   "source": [
    "%matplotlib inline\n",
    "neighbors = NearestNeighbors(n_neighbors=4)\n",
    "neighbors_fit = neighbors.fit(scaled_X)\n",
    "distances, indices = neighbors_fit.kneighbors(scaled_X)\n",
    "distances = np.sort(distances, axis=0)\n",
    "distances = distances[:,1]\n",
    "plt.plot(distances[11360:len(distances)])\n",
    "font = {'size':14}\n",
    "plt.title('Points sorted by distance to the selected min-value nearest neighbor', fontdict=font)\n",
    "plt.xlabel('Indecis of Last 175 sorted distances', fontdict=font)\n",
    "plt.ylabel('Normalized Distance', fontdict=font)\n",
    "plt.annotate(text='', xy = (165,0.14), xytext=(55,0.14), arrowprops=dict(arrowstyle='->', connectionstyle='arc3', color='red', lw=2))\n",
    "plt.annotate(text='selected value for eps parameter', xy=(65, 0.145))\n",
    "plt.show()"
   ]
  },
  {
   "cell_type": "code",
   "execution_count": 8,
   "id": "510b5417",
   "metadata": {},
   "outputs": [
    {
     "data": {
      "text/plain": [
       "DBSCAN(eps=0.14, min_samples=4)"
      ]
     },
     "execution_count": 8,
     "metadata": {},
     "output_type": "execute_result"
    }
   ],
   "source": [
    "# build DBSCAN model\n",
    "db = DBSCAN(eps=0.14, min_samples=4) \n",
    "db.fit(scaled_X)"
   ]
  },
  {
   "cell_type": "code",
   "execution_count": 9,
   "id": "99c8a00f",
   "metadata": {
    "scrolled": true
   },
   "outputs": [
    {
     "name": "stdout",
     "output_type": "stream",
     "text": [
      "(array([-1,  0,  1,  2,  3,  4,  5,  6,  7,  8,  9, 10, 11]), array([    8, 10923,   278,   166,    10,     7,     6,    29,    83,\n",
      "           6,     5,     6,     4]))\n"
     ]
    }
   ],
   "source": [
    "# get number of unique clusters with value counts\n",
    "print(np.unique(db.labels_, return_counts=True))"
   ]
  },
  {
   "cell_type": "code",
   "execution_count": 10,
   "id": "e6087661",
   "metadata": {
    "scrolled": true
   },
   "outputs": [
    {
     "data": {
      "image/png": "[encoded data removed]",
      "text/plain": [
       "<Figure size 576x360 with 1 Axes>"
      ]
     },
     "metadata": {
      "needs_background": "light"
     },
     "output_type": "display_data"
    }
   ],
   "source": [
    "%matplotlib inline\n",
    "\n",
    "#create temporary core_sample_mask and set True for core points and False for border and outlier points\n",
    "core_samples_mask = np.zeros_like(db.labels_, dtype=bool)\n",
    "core_samples_mask[db.core_sample_indices_] = True\n",
    "\n",
    "# set color for each label\n",
    "unique_labels = set(db.labels_)\n",
    "colors = plt.cm.Spectral(np.linspace(0, 1, len(unique_labels)))\n",
    "# Plot the points with colors\n",
    "plt.figure(figsize=(8, 5))\n",
    "for label, color in zip(unique_labels, colors):\n",
    "    if label == -1:\n",
    "        color = 'k'\n",
    "\n",
    "    class_member_mask = (db.labels_ == label)\n",
    "\n",
    "    # Plot core points\n",
    "    xy = scaled_X[class_member_mask & core_samples_mask]\n",
    "    plt.scatter(xy[:, 0], xy[:, 1],s=50, c=[color], marker=u'o')\n",
    "\n",
    "    # Plot border points and outliers\n",
    "    xy = scaled_X[class_member_mask & ~core_samples_mask]\n",
    "    plt.scatter(xy[:, 0], xy[:, 1],s=50, c=[color], marker=u'o', alpha=0.6)\n",
    "\n",
    "font = {'size':14}    \n",
    "plt.title('Clustering Latitude and Longitude Data' , fontdict=font)\n",
    "plt.xlabel('Normalized Latitude', fontdict=font)\n",
    "plt.ylabel('Normalized Longitude' , fontdict=font)\n",
    "plt.show()"
   ]
  },
  {
   "cell_type": "markdown",
   "id": "d5f1e059",
   "metadata": {},
   "source": [
    "As the plot shows that based on the selected hyperparameters for the the algorithm, there are three clusters of fire data based based on the geographical coordinates of which 8 out of 11,500 coordinate data are determined to be noise and could be clusterd. We are not going to modify the dataset as the purpose of clustering here is to bring coordinately close fire occurences into same group."
   ]
  },
  {
   "cell_type": "code",
   "execution_count": 11,
   "id": "9b39be51",
   "metadata": {
    "scrolled": true
   },
   "outputs": [],
   "source": [
    "# add location_group\n",
    "df['location_group'] = db.labels_"
   ]
  },
  {
   "cell_type": "markdown",
   "id": "78c3a5d8",
   "metadata": {},
   "source": [
    "## Plotting Clustered Fire Coordinates"
   ]
  },
  {
   "cell_type": "markdown",
   "id": "d93777f3",
   "metadata": {},
   "source": [
    "Fire location coordinates have been adjusted to their nearest quarter degrees in order to be aligned with the weather data and grouping purpose. The process of this approximation is in the wildfire silver dataset generation python script file."
   ]
  },
  {
   "cell_type": "code",
   "execution_count": null,
   "id": "9e363d36",
   "metadata": {},
   "outputs": [],
   "source": [
    "colors_map = ['red', 'orange', 'darkgreen', 'purple', 'darkblue', 'lightred', 'white', 'lightblue', 'beige','darkpurple', 'lightgray', 'gray', 'pink','black']\n",
    "ab_bc_map = folium.Map(location=[54.130, -120.35],zoom_start=5, tiles='Stamen Terrain', scrollWheelZoom=False)\n",
    "cluster = MarkerCluster().add_to(ab_bc_map)\n",
    "\n",
    "for lat, lon, color_index, label1, label2 in zip(df.lat_mean, df.lon_mean, df.location_group, df.UID_Fire, df.Date.dt.date):\n",
    "    folium.features.CircleMarker(\n",
    "        location=[lat, lon],\n",
    "        radius=5,\n",
    "        fill=True,\n",
    "        color = colors_map[color_index],\n",
    "        popup = folium.Popup(f'UID Fire: {label1} <br> Date: {label2}', max_width=len(f'name= {label2}')*20),\n",
    "        ).add_to(cluster)\n",
    "\n",
    "text_formatter = \"function(num) {return L.Util.formatNum(num, 5);};\"\n",
    "\n",
    "mouse_position = MousePosition(\n",
    "    position='topright',\n",
    "    separator=' Lon: ',\n",
    "    empty_string='NaN',\n",
    "    lng_first=False,\n",
    "    num_digits=20,\n",
    "    prefix='Lat:',\n",
    "    lat_formatter=text_formatter,\n",
    "    lng_formatter=text_formatter)\n",
    "\n",
    "ab_bc_map.add_child(mouse_position)"
   ]
  },
  {
   "cell_type": "markdown",
   "id": "b79695b1",
   "metadata": {},
   "source": [
    "## Feature Organizing"
   ]
  },
  {
   "cell_type": "code",
   "execution_count": 12,
   "id": "ea63b25a",
   "metadata": {},
   "outputs": [
    {
     "name": "stdout",
     "output_type": "stream",
     "text": [
      "['satelite']\n",
      "['t21_mean', 't21_std', 't31_mean', 't31_std', 'frp_mean', 'frp_std', 'conf_mean', 'conf_std', 'temp_mean', 'temp_std', 'convective_energy_mean', 'convective_energy_std', 'dewpoint_temp_mean', 'dewpoint_temp_std', 'total_precipitation_mean', 'total_precipitation_std', 'total_cloud_cover_mean', 'total_cloud_cover_std', 'high_veg_cover_mean', 'low_veg_cover_mean', 'soil_water_mean', 'soil_water_std', 'wind_speed_mean', 'wind_speed_std']\n"
     ]
    }
   ],
   "source": [
    "# identify features, and label data\n",
    "to_drop = ['UID_Fire', 'REF_ID', 'Date', 'year', 'total_aob', 'month', 'location_group', 'lat_mean', 'lon_mean', 'lat_std', 'lon_std']\n",
    "label = 'category_aob'\n",
    "categorical = ['satelite']\n",
    "continuous  = [col for col in df.columns if col not in to_drop + [label] + categorical]\n",
    "print(categorical)\n",
    "print(continuous)"
   ]
  },
  {
   "cell_type": "code",
   "execution_count": 13,
   "id": "a9b95ff5",
   "metadata": {},
   "outputs": [
    {
     "data": {
      "text/html": [
       "<div>\n",
       "<style scoped>\n",
       "    .dataframe tbody tr th:only-of-type {\n",
       "        vertical-align: middle;\n",
       "    }\n",
       "\n",
       "    .dataframe tbody tr th {\n",
       "        vertical-align: top;\n",
       "    }\n",
       "\n",
       "    .dataframe thead th {\n",
       "        text-align: right;\n",
       "    }\n",
       "</style>\n",
       "<table border=\"1\" class=\"dataframe\">\n",
       "  <thead>\n",
       "    <tr style=\"text-align: right;\">\n",
       "      <th></th>\n",
       "      <th>satelite_A</th>\n",
       "      <th>satelite_T</th>\n",
       "    </tr>\n",
       "  </thead>\n",
       "  <tbody>\n",
       "    <tr>\n",
       "      <th>0</th>\n",
       "      <td>0</td>\n",
       "      <td>1</td>\n",
       "    </tr>\n",
       "    <tr>\n",
       "      <th>1</th>\n",
       "      <td>0</td>\n",
       "      <td>1</td>\n",
       "    </tr>\n",
       "    <tr>\n",
       "      <th>2</th>\n",
       "      <td>1</td>\n",
       "      <td>0</td>\n",
       "    </tr>\n",
       "    <tr>\n",
       "      <th>3</th>\n",
       "      <td>0</td>\n",
       "      <td>1</td>\n",
       "    </tr>\n",
       "    <tr>\n",
       "      <th>4</th>\n",
       "      <td>1</td>\n",
       "      <td>0</td>\n",
       "    </tr>\n",
       "  </tbody>\n",
       "</table>\n",
       "</div>"
      ],
      "text/plain": [
       "   satelite_A  satelite_T\n",
       "0           0           1\n",
       "1           0           1\n",
       "2           1           0\n",
       "3           0           1\n",
       "4           1           0"
      ]
     },
     "execution_count": 13,
     "metadata": {},
     "output_type": "execute_result"
    }
   ],
   "source": [
    "# set indicators for categorical data\n",
    "categorical_features_df = pd.get_dummies(df[categorical].astype('str'))\n",
    "categorical_features_df.head()"
   ]
  },
  {
   "cell_type": "code",
   "execution_count": 17,
   "id": "99397e48",
   "metadata": {},
   "outputs": [
    {
     "data": {
      "text/html": [
       "<div>\n",
       "<style scoped>\n",
       "    .dataframe tbody tr th:only-of-type {\n",
       "        vertical-align: middle;\n",
       "    }\n",
       "\n",
       "    .dataframe tbody tr th {\n",
       "        vertical-align: top;\n",
       "    }\n",
       "\n",
       "    .dataframe thead th {\n",
       "        text-align: right;\n",
       "    }\n",
       "</style>\n",
       "<table border=\"1\" class=\"dataframe\">\n",
       "  <thead>\n",
       "    <tr style=\"text-align: right;\">\n",
       "      <th></th>\n",
       "      <th>t21_mean</th>\n",
       "      <th>t21_std</th>\n",
       "      <th>t31_mean</th>\n",
       "      <th>t31_std</th>\n",
       "      <th>frp_mean</th>\n",
       "      <th>frp_std</th>\n",
       "      <th>conf_mean</th>\n",
       "      <th>conf_std</th>\n",
       "      <th>temp_mean</th>\n",
       "      <th>temp_std</th>\n",
       "      <th>...</th>\n",
       "      <th>total_cloud_cover_mean</th>\n",
       "      <th>total_cloud_cover_std</th>\n",
       "      <th>high_veg_cover_mean</th>\n",
       "      <th>low_veg_cover_mean</th>\n",
       "      <th>soil_water_mean</th>\n",
       "      <th>soil_water_std</th>\n",
       "      <th>wind_speed_mean</th>\n",
       "      <th>wind_speed_std</th>\n",
       "      <th>satelite_A</th>\n",
       "      <th>satelite_T</th>\n",
       "    </tr>\n",
       "  </thead>\n",
       "  <tbody>\n",
       "    <tr>\n",
       "      <th>0</th>\n",
       "      <td>28.85</td>\n",
       "      <td>0.000000</td>\n",
       "      <td>2.85</td>\n",
       "      <td>0.000000</td>\n",
       "      <td>19.0</td>\n",
       "      <td>0.000000</td>\n",
       "      <td>50.0</td>\n",
       "      <td>0.000000</td>\n",
       "      <td>2.639483</td>\n",
       "      <td>2.444001</td>\n",
       "      <td>...</td>\n",
       "      <td>0.838529</td>\n",
       "      <td>0.187564</td>\n",
       "      <td>0.981841</td>\n",
       "      <td>0.000504</td>\n",
       "      <td>0.394290</td>\n",
       "      <td>0.005209</td>\n",
       "      <td>2.100145</td>\n",
       "      <td>0.372036</td>\n",
       "      <td>0</td>\n",
       "      <td>1</td>\n",
       "    </tr>\n",
       "    <tr>\n",
       "      <th>1</th>\n",
       "      <td>38.65</td>\n",
       "      <td>0.707107</td>\n",
       "      <td>23.05</td>\n",
       "      <td>0.565685</td>\n",
       "      <td>13.3</td>\n",
       "      <td>0.989949</td>\n",
       "      <td>70.5</td>\n",
       "      <td>0.707107</td>\n",
       "      <td>5.537388</td>\n",
       "      <td>7.054086</td>\n",
       "      <td>...</td>\n",
       "      <td>0.314304</td>\n",
       "      <td>0.386498</td>\n",
       "      <td>0.934903</td>\n",
       "      <td>0.065097</td>\n",
       "      <td>0.375507</td>\n",
       "      <td>0.004740</td>\n",
       "      <td>2.625103</td>\n",
       "      <td>0.524167</td>\n",
       "      <td>0</td>\n",
       "      <td>1</td>\n",
       "    </tr>\n",
       "    <tr>\n",
       "      <th>2</th>\n",
       "      <td>29.85</td>\n",
       "      <td>0.000000</td>\n",
       "      <td>14.35</td>\n",
       "      <td>0.000000</td>\n",
       "      <td>8.3</td>\n",
       "      <td>0.000000</td>\n",
       "      <td>35.0</td>\n",
       "      <td>0.000000</td>\n",
       "      <td>3.356584</td>\n",
       "      <td>3.368528</td>\n",
       "      <td>...</td>\n",
       "      <td>0.377443</td>\n",
       "      <td>0.275385</td>\n",
       "      <td>0.969969</td>\n",
       "      <td>0.028169</td>\n",
       "      <td>0.323027</td>\n",
       "      <td>0.001149</td>\n",
       "      <td>2.647607</td>\n",
       "      <td>0.683949</td>\n",
       "      <td>1</td>\n",
       "      <td>0</td>\n",
       "    </tr>\n",
       "    <tr>\n",
       "      <th>3</th>\n",
       "      <td>38.25</td>\n",
       "      <td>0.000000</td>\n",
       "      <td>14.55</td>\n",
       "      <td>0.000000</td>\n",
       "      <td>14.9</td>\n",
       "      <td>0.000000</td>\n",
       "      <td>71.0</td>\n",
       "      <td>0.000000</td>\n",
       "      <td>3.356584</td>\n",
       "      <td>3.368528</td>\n",
       "      <td>...</td>\n",
       "      <td>0.377443</td>\n",
       "      <td>0.275385</td>\n",
       "      <td>0.969969</td>\n",
       "      <td>0.028169</td>\n",
       "      <td>0.323027</td>\n",
       "      <td>0.001149</td>\n",
       "      <td>2.647607</td>\n",
       "      <td>0.683949</td>\n",
       "      <td>0</td>\n",
       "      <td>1</td>\n",
       "    </tr>\n",
       "    <tr>\n",
       "      <th>4</th>\n",
       "      <td>90.65</td>\n",
       "      <td>0.000000</td>\n",
       "      <td>9.25</td>\n",
       "      <td>0.000000</td>\n",
       "      <td>183.0</td>\n",
       "      <td>0.000000</td>\n",
       "      <td>0.0</td>\n",
       "      <td>0.000000</td>\n",
       "      <td>4.350320</td>\n",
       "      <td>4.777020</td>\n",
       "      <td>...</td>\n",
       "      <td>0.365491</td>\n",
       "      <td>0.313924</td>\n",
       "      <td>0.953703</td>\n",
       "      <td>0.046297</td>\n",
       "      <td>0.317802</td>\n",
       "      <td>0.001737</td>\n",
       "      <td>1.338031</td>\n",
       "      <td>0.759403</td>\n",
       "      <td>1</td>\n",
       "      <td>0</td>\n",
       "    </tr>\n",
       "  </tbody>\n",
       "</table>\n",
       "<p>5 rows × 26 columns</p>\n",
       "</div>"
      ],
      "text/plain": [
       "   t21_mean   t21_std  t31_mean   t31_std  frp_mean   frp_std  conf_mean  \\\n",
       "0     28.85  0.000000      2.85  0.000000      19.0  0.000000       50.0   \n",
       "1     38.65  0.707107     23.05  0.565685      13.3  0.989949       70.5   \n",
       "2     29.85  0.000000     14.35  0.000000       8.3  0.000000       35.0   \n",
       "3     38.25  0.000000     14.55  0.000000      14.9  0.000000       71.0   \n",
       "4     90.65  0.000000      9.25  0.000000     183.0  0.000000        0.0   \n",
       "\n",
       "   conf_std  temp_mean  temp_std  ...  total_cloud_cover_mean  \\\n",
       "0  0.000000   2.639483  2.444001  ...                0.838529   \n",
       "1  0.707107   5.537388  7.054086  ...                0.314304   \n",
       "2  0.000000   3.356584  3.368528  ...                0.377443   \n",
       "3  0.000000   3.356584  3.368528  ...                0.377443   \n",
       "4  0.000000   4.350320  4.777020  ...                0.365491   \n",
       "\n",
       "   total_cloud_cover_std  high_veg_cover_mean  low_veg_cover_mean  \\\n",
       "0               0.187564             0.981841            0.000504   \n",
       "1               0.386498             0.934903            0.065097   \n",
       "2               0.275385             0.969969            0.028169   \n",
       "3               0.275385             0.969969            0.028169   \n",
       "4               0.313924             0.953703            0.046297   \n",
       "\n",
       "   soil_water_mean  soil_water_std  wind_speed_mean  wind_speed_std  \\\n",
       "0         0.394290        0.005209         2.100145        0.372036   \n",
       "1         0.375507        0.004740         2.625103        0.524167   \n",
       "2         0.323027        0.001149         2.647607        0.683949   \n",
       "3         0.323027        0.001149         2.647607        0.683949   \n",
       "4         0.317802        0.001737         1.338031        0.759403   \n",
       "\n",
       "   satelite_A  satelite_T  \n",
       "0           0           1  \n",
       "1           0           1  \n",
       "2           1           0  \n",
       "3           0           1  \n",
       "4           1           0  \n",
       "\n",
       "[5 rows x 26 columns]"
      ]
     },
     "metadata": {},
     "output_type": "display_data"
    },
    {
     "data": {
      "text/plain": [
       "(11531, 26)"
      ]
     },
     "metadata": {},
     "output_type": "display_data"
    }
   ],
   "source": [
    "#normalizing all continuous values\n",
    "X_all = df[continuous].to_numpy()\n",
    "continuous_all_df = pd.DataFrame(X_all, columns=continuous)\n",
    "features_all = pd.concat([continuous_all_df, categorical_features_df], axis = 1)\n",
    "display(features_all.head())\n",
    "display(features_all.shape)"
   ]
  },
  {
   "cell_type": "code",
   "execution_count": 18,
   "id": "feb22627",
   "metadata": {
    "scrolled": false
   },
   "outputs": [
    {
     "data": {
      "text/html": [
       "<div>\n",
       "<style scoped>\n",
       "    .dataframe tbody tr th:only-of-type {\n",
       "        vertical-align: middle;\n",
       "    }\n",
       "\n",
       "    .dataframe tbody tr th {\n",
       "        vertical-align: top;\n",
       "    }\n",
       "\n",
       "    .dataframe thead th {\n",
       "        text-align: right;\n",
       "    }\n",
       "</style>\n",
       "<table border=\"1\" class=\"dataframe\">\n",
       "  <thead>\n",
       "    <tr style=\"text-align: right;\">\n",
       "      <th></th>\n",
       "      <th>t21_mean</th>\n",
       "      <th>t31_mean</th>\n",
       "      <th>frp_mean</th>\n",
       "      <th>conf_mean</th>\n",
       "      <th>temp_mean</th>\n",
       "      <th>convective_energy_mean</th>\n",
       "      <th>dewpoint_temp_mean</th>\n",
       "      <th>total_precipitation_mean</th>\n",
       "      <th>total_cloud_cover_mean</th>\n",
       "      <th>high_veg_cover_mean</th>\n",
       "      <th>low_veg_cover_mean</th>\n",
       "      <th>soil_water_mean</th>\n",
       "      <th>wind_speed_mean</th>\n",
       "      <th>satelite_A</th>\n",
       "      <th>satelite_T</th>\n",
       "    </tr>\n",
       "  </thead>\n",
       "  <tbody>\n",
       "    <tr>\n",
       "      <th>0</th>\n",
       "      <td>28.85</td>\n",
       "      <td>2.85</td>\n",
       "      <td>19.0</td>\n",
       "      <td>50.0</td>\n",
       "      <td>2.639483</td>\n",
       "      <td>0.723796</td>\n",
       "      <td>-0.887532</td>\n",
       "      <td>0.000000</td>\n",
       "      <td>0.838529</td>\n",
       "      <td>0.981841</td>\n",
       "      <td>0.000504</td>\n",
       "      <td>0.394290</td>\n",
       "      <td>2.100145</td>\n",
       "      <td>0</td>\n",
       "      <td>1</td>\n",
       "    </tr>\n",
       "    <tr>\n",
       "      <th>1</th>\n",
       "      <td>38.65</td>\n",
       "      <td>23.05</td>\n",
       "      <td>13.3</td>\n",
       "      <td>70.5</td>\n",
       "      <td>5.537388</td>\n",
       "      <td>0.000000</td>\n",
       "      <td>-7.583762</td>\n",
       "      <td>0.000000</td>\n",
       "      <td>0.314304</td>\n",
       "      <td>0.934903</td>\n",
       "      <td>0.065097</td>\n",
       "      <td>0.375507</td>\n",
       "      <td>2.625103</td>\n",
       "      <td>0</td>\n",
       "      <td>1</td>\n",
       "    </tr>\n",
       "    <tr>\n",
       "      <th>2</th>\n",
       "      <td>29.85</td>\n",
       "      <td>14.35</td>\n",
       "      <td>8.3</td>\n",
       "      <td>35.0</td>\n",
       "      <td>3.356584</td>\n",
       "      <td>6.887451</td>\n",
       "      <td>-5.593360</td>\n",
       "      <td>0.000005</td>\n",
       "      <td>0.377443</td>\n",
       "      <td>0.969969</td>\n",
       "      <td>0.028169</td>\n",
       "      <td>0.323027</td>\n",
       "      <td>2.647607</td>\n",
       "      <td>1</td>\n",
       "      <td>0</td>\n",
       "    </tr>\n",
       "    <tr>\n",
       "      <th>3</th>\n",
       "      <td>38.25</td>\n",
       "      <td>14.55</td>\n",
       "      <td>14.9</td>\n",
       "      <td>71.0</td>\n",
       "      <td>3.356584</td>\n",
       "      <td>6.887451</td>\n",
       "      <td>-5.593360</td>\n",
       "      <td>0.000005</td>\n",
       "      <td>0.377443</td>\n",
       "      <td>0.969969</td>\n",
       "      <td>0.028169</td>\n",
       "      <td>0.323027</td>\n",
       "      <td>2.647607</td>\n",
       "      <td>0</td>\n",
       "      <td>1</td>\n",
       "    </tr>\n",
       "    <tr>\n",
       "      <th>4</th>\n",
       "      <td>90.65</td>\n",
       "      <td>9.25</td>\n",
       "      <td>183.0</td>\n",
       "      <td>0.0</td>\n",
       "      <td>4.350320</td>\n",
       "      <td>3.652913</td>\n",
       "      <td>-6.729558</td>\n",
       "      <td>0.000035</td>\n",
       "      <td>0.365491</td>\n",
       "      <td>0.953703</td>\n",
       "      <td>0.046297</td>\n",
       "      <td>0.317802</td>\n",
       "      <td>1.338031</td>\n",
       "      <td>1</td>\n",
       "      <td>0</td>\n",
       "    </tr>\n",
       "  </tbody>\n",
       "</table>\n",
       "</div>"
      ],
      "text/plain": [
       "   t21_mean  t31_mean  frp_mean  conf_mean  temp_mean  convective_energy_mean  \\\n",
       "0     28.85      2.85      19.0       50.0   2.639483                0.723796   \n",
       "1     38.65     23.05      13.3       70.5   5.537388                0.000000   \n",
       "2     29.85     14.35       8.3       35.0   3.356584                6.887451   \n",
       "3     38.25     14.55      14.9       71.0   3.356584                6.887451   \n",
       "4     90.65      9.25     183.0        0.0   4.350320                3.652913   \n",
       "\n",
       "   dewpoint_temp_mean  total_precipitation_mean  total_cloud_cover_mean  \\\n",
       "0           -0.887532                  0.000000                0.838529   \n",
       "1           -7.583762                  0.000000                0.314304   \n",
       "2           -5.593360                  0.000005                0.377443   \n",
       "3           -5.593360                  0.000005                0.377443   \n",
       "4           -6.729558                  0.000035                0.365491   \n",
       "\n",
       "   high_veg_cover_mean  low_veg_cover_mean  soil_water_mean  wind_speed_mean  \\\n",
       "0             0.981841            0.000504         0.394290         2.100145   \n",
       "1             0.934903            0.065097         0.375507         2.625103   \n",
       "2             0.969969            0.028169         0.323027         2.647607   \n",
       "3             0.969969            0.028169         0.323027         2.647607   \n",
       "4             0.953703            0.046297         0.317802         1.338031   \n",
       "\n",
       "   satelite_A  satelite_T  \n",
       "0           0           1  \n",
       "1           0           1  \n",
       "2           1           0  \n",
       "3           0           1  \n",
       "4           1           0  "
      ]
     },
     "metadata": {},
     "output_type": "display_data"
    },
    {
     "data": {
      "text/plain": [
       "(11531, 15)"
      ]
     },
     "metadata": {},
     "output_type": "display_data"
    }
   ],
   "source": [
    "no_stds = [column for column in continuous if column.find('std') == -1]\n",
    "X_no_stds = df[no_stds]\n",
    "continuous_no_stds_df = pd.DataFrame(X_no_stds, columns=no_stds)\n",
    "features_no_stds = pd.concat([continuous_no_stds_df, categorical_features_df], axis=1)\n",
    "display(features_no_stds.head())\n",
    "display(features_no_stds.shape)"
   ]
  },
  {
   "cell_type": "code",
   "execution_count": 19,
   "id": "8c16d24d",
   "metadata": {
    "scrolled": true
   },
   "outputs": [
    {
     "data": {
      "text/plain": [
       "['High --> 0',\n",
       " 'Low --> 1',\n",
       " 'Moderate --> 2',\n",
       " 'Very High --> 3',\n",
       " 'Very Low --> 4']"
      ]
     },
     "metadata": {},
     "output_type": "display_data"
    }
   ],
   "source": [
    "# Encoding label data\n",
    "y = df[label]\n",
    "le = LabelEncoder()\n",
    "y_encoded = le.fit_transform(y)\n",
    "label_df = pd.DataFrame(y_encoded, columns=[label])\n",
    "display(list(map(lambda x, y: x + ' --> ' + str(y), le.classes_, le.transform(le.classes_))))"
   ]
  },
  {
   "cell_type": "code",
   "execution_count": 20,
   "id": "da7956ec",
   "metadata": {},
   "outputs": [
    {
     "data": {
      "text/plain": [
       "(11531, 27)"
      ]
     },
     "metadata": {},
     "output_type": "display_data"
    },
    {
     "data": {
      "text/plain": [
       "(11531, 16)"
      ]
     },
     "metadata": {},
     "output_type": "display_data"
    }
   ],
   "source": [
    "XY_all = pd.concat([features_all, label_df], axis=1)\n",
    "XY_no_stds = pd.concat([features_no_stds, label_df], axis=1)\n",
    "display(XY_all.shape, XY_no_stds.shape)"
   ]
  },
  {
   "cell_type": "code",
   "execution_count": 21,
   "id": "589f9aa6",
   "metadata": {},
   "outputs": [],
   "source": [
    "# save complete normalized and indicator features and label as csv\n",
    "path = os.path.abspath(\n",
    "        os.path.join(os.getcwd(), \"../data/processed/features_label_all.csv\"))\n",
    "XY_all.to_csv(path, index = False)"
   ]
  },
  {
   "cell_type": "code",
   "execution_count": 22,
   "id": "583f4fc3",
   "metadata": {},
   "outputs": [],
   "source": [
    "# save without standard deviation dataset for features and labels as csv\n",
    "path = os.path.abspath(\n",
    "        os.path.join(os.getcwd(), \"../data/processed/features_label_no_stds.csv\"))\n",
    "XY_no_stds.to_csv(path, index = False)"
   ]
  },
  {
   "cell_type": "markdown",
   "id": "c34f18ab",
   "metadata": {},
   "source": [
    "## <h3 align=\"center\"> Copyright © 2022 - All rights reserved by the author.<h3/>"
   ]
  },
  {
   "cell_type": "code",
   "execution_count": null,
   "id": "5adde35d",
   "metadata": {},
   "outputs": [],
   "source": []
  }
 ],
 "metadata": {
  "kernelspec": {
   "display_name": "Python 3.9.7 64-bit ('wildfire': conda)",
   "language": "python",
   "name": "python397jvsc74a57bd0c9c4cfd9cad585ffae505b87b9c6636e80d3fb83e0403c6e6d9fc561903b9552"
  },
  "language_info": {
   "codemirror_mode": {
    "name": "ipython",
    "version": 3
   },
   "file_extension": ".py",
   "mimetype": "text/x-python",
   "name": "python",
   "nbconvert_exporter": "python",
   "pygments_lexer": "ipython3",
   "version": "3.9.7"
  }
 },
 "nbformat": 4,
 "nbformat_minor": 5
}
