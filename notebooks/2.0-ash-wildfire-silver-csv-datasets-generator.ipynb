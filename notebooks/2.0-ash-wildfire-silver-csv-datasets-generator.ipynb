{
 "cells": [
  {
   "cell_type": "markdown",
   "id": "bb9cb6bc",
   "metadata": {},
   "source": [
    "# Silver Dataset Generation using Wildfire Spatial Data\n",
    "<font size=3>**Author:** Ashkan Soltanieh<br>\n",
    "**Date:** Jan. 8, 2022</font>"
   ]
  },
  {
   "cell_type": "markdown",
   "id": "012be9ac",
   "metadata": {},
   "source": [
    "## Table of Contents\n",
    "\n",
    "<div class=\"alert alert-success mt-20\">\n",
    "    <ul>\n",
    "        <li><a href=\"#Approach\">Approach</a></li>\n",
    "        <li><a href=\"#Area of Burn Data\">Area of Burn Data</a></li>\n",
    "        <li><a href=\"#Characteristics Data\">Characteristics Data</a></li>\n",
    "        <li><a href=\"#Metadata\">Metadata</a></li>\n",
    "    </ul>\n",
    "</div>"
   ]
  },
  {
   "cell_type": "markdown",
   "id": "e691e4da",
   "metadata": {},
   "source": [
    "## Approach:\n",
    "Raw uncleaned (bronze) dataset will be further refined in this notebood, the wildfire data in two different csv files will be merged and aggregated so that each row will represent an individual fire accident.\n",
    "\n",
    "The lateral and longitude data are rounded to the nearest quarter number to match the scraped weather data, so part of the characteristics data cleaning is rount lat and lng data."
   ]
  },
  {
   "cell_type": "markdown",
   "id": "fb045703",
   "metadata": {},
   "source": [
    "## Area of Burn Data\n",
    "The area of burn(AoB) data in form of Polygon. The AoB has been selected as the label data. Each Polygon object has an area property which will be used to obtain these data. Each row of AoB cannot be uniquely identified by any of the other columns. Therefore, we will be aggregating the area data by UID_Fire, Year, and REF_ID (Unique Identifier). Here are the unused variable which will be dropped from the dataset:<br>\n",
    "\n",
    "**Dropped Columns:**<br>\n",
    "> Area of Burn(AoB) dataset:\n",
    ">> **FD_Agency:** Redundant data as all data in current dataset are from Canada<br>\n",
    ">> **JD, date_src, Year:** Date related data are covered in characteristics dataset. Only Map_Date is kept.<br>"
   ]
  },
  {
   "cell_type": "markdown",
   "id": "a7d60e74",
   "metadata": {},
   "source": [
    "## Characteristics Data\n",
    "Most of the variables in this dataset will be selected as features. In this notebook, the variables with missing or redundant information are dropped. Below is the list of the dropped variables and the reason behind making this decision:\n",
    "\n",
    "**Dropped Columns:**<br>\n",
    ">Characteristics dataset:\n",
    ">> **FD_Agency:** Redundant data as all data in current dataset are from Canada<br>\n",
    ">> **dn:** This variable is missing for observations before 2016. We dropped it for consistency purpose among all observation<br>\n",
    ">> **HHMM:** Time vairable will not be used as index as fire data will be aggregated daily like weather data<br>\n",
    ">> **sample:** Other identifiers are used instead of this variable<br>\n",
    ">> **type:** It's redundant for Alberta and British Columnbia dataset as only type zero(presumed vegetation fire) exist in the table<br>\n",
    ">> **geometry:** There is EPSG 4326 representation of the point in lat/lng columns.<br>"
   ]
  },
  {
   "cell_type": "code",
   "execution_count": 1,
   "id": "1a86026c",
   "metadata": {},
   "outputs": [],
   "source": [
    "import os\n",
    "import pandas as pd\n",
    "from shapely.wkt import loads\n",
    "import sys\n",
    "from IPython.display import display"
   ]
  },
  {
   "cell_type": "code",
   "execution_count": 2,
   "id": "ff729e6a",
   "metadata": {
    "scrolled": true
   },
   "outputs": [],
   "source": [
    "#bronze datasets path for wildfire\n",
    "path_aob = os.path.abspath(os.path.join(os.getcwd(), '../data/processed/wildfire/bronze/bronze_AoB.csv'))\n",
    "path_characteristics = os.path.abspath(os.path.join(os.getcwd(), '../data/processed/wildfire/bronze/bronze_chracteristics.csv'))"
   ]
  },
  {
   "cell_type": "code",
   "execution_count": 3,
   "id": "9bfac6ed",
   "metadata": {},
   "outputs": [],
   "source": [
    "# create the silver dataframe using custom script\n",
    "sys.path.insert(1, os.path.abspath(os.path.join(os.getcwd(),\"..\",\"src/data\")))\n",
    "from wildfire import make_silver_dataframes\n",
    "\n",
    "df_aob, df_characteristics = make_silver_dataframes(path_aob, path_characteristics)"
   ]
  },
  {
   "cell_type": "code",
   "execution_count": 4,
   "id": "9e04fa5a",
   "metadata": {},
   "outputs": [],
   "source": [
    "# save extracted cleaned dataframe into silver datasets\n",
    "path_aob = os.path.abspath(\n",
    "        os.path.join(os.getcwd(), \"../data/processed/wildfire/silver/silver_AoB.csv\"))\n",
    "path_characteristics = os.path.abspath(\n",
    "        os.path.join(os.getcwd(), \"../data/processed/wildfire/silver/silver_chracteristics.csv\"))\n",
    "\n",
    "df_aob.to_csv(path_aob, index = False)\n",
    "df_characteristics.to_csv(path_characteristics, index = False)"
   ]
  },
  {
   "cell_type": "markdown",
   "id": "3726958e",
   "metadata": {},
   "source": [
    "## Metadata"
   ]
  },
  {
   "cell_type": "code",
   "execution_count": 15,
   "id": "233cf139",
   "metadata": {},
   "outputs": [
    {
     "data": {
      "text/html": [
       "<div>\n",
       "<style scoped>\n",
       "    .dataframe tbody tr th:only-of-type {\n",
       "        vertical-align: middle;\n",
       "    }\n",
       "\n",
       "    .dataframe tbody tr th {\n",
       "        vertical-align: top;\n",
       "    }\n",
       "\n",
       "    .dataframe thead th {\n",
       "        text-align: right;\n",
       "    }\n",
       "</style>\n",
       "<table border=\"1\" class=\"dataframe\">\n",
       "  <thead>\n",
       "    <tr style=\"text-align: right;\">\n",
       "      <th></th>\n",
       "      <th>UID_Fire</th>\n",
       "      <th>REF_ID</th>\n",
       "      <th>Map_Date</th>\n",
       "      <th>area</th>\n",
       "    </tr>\n",
       "  </thead>\n",
       "  <tbody>\n",
       "    <tr>\n",
       "      <th>0</th>\n",
       "      <td>193</td>\n",
       "      <td>BC-2010-C10060</td>\n",
       "      <td>2010-06-01</td>\n",
       "      <td>0.019264</td>\n",
       "    </tr>\n",
       "    <tr>\n",
       "      <th>1</th>\n",
       "      <td>208</td>\n",
       "      <td>BC-2010-C10258</td>\n",
       "      <td>2010-07-31</td>\n",
       "      <td>0.248266</td>\n",
       "    </tr>\n",
       "    <tr>\n",
       "      <th>2</th>\n",
       "      <td>215</td>\n",
       "      <td>BC-2010-C10320</td>\n",
       "      <td>2010-08-02</td>\n",
       "      <td>1.755061</td>\n",
       "    </tr>\n",
       "    <tr>\n",
       "      <th>3</th>\n",
       "      <td>222</td>\n",
       "      <td>BC-2010-C20018</td>\n",
       "      <td>2010-07-06</td>\n",
       "      <td>1.979787</td>\n",
       "    </tr>\n",
       "    <tr>\n",
       "      <th>4</th>\n",
       "      <td>245</td>\n",
       "      <td>BC-2010-C20293</td>\n",
       "      <td>2010-07-31</td>\n",
       "      <td>0.158772</td>\n",
       "    </tr>\n",
       "  </tbody>\n",
       "</table>\n",
       "</div>"
      ],
      "text/plain": [
       "  UID_Fire          REF_ID    Map_Date      area\n",
       "0      193  BC-2010-C10060  2010-06-01  0.019264\n",
       "1      208  BC-2010-C10258  2010-07-31  0.248266\n",
       "2      215  BC-2010-C10320  2010-08-02  1.755061\n",
       "3      222  BC-2010-C20018  2010-07-06  1.979787\n",
       "4      245  BC-2010-C20293  2010-07-31  0.158772"
      ]
     },
     "metadata": {},
     "output_type": "display_data"
    },
    {
     "data": {
      "text/plain": [
       "(440523, 4)"
      ]
     },
     "metadata": {},
     "output_type": "display_data"
    },
    {
     "data": {
      "text/html": [
       "<div>\n",
       "<style scoped>\n",
       "    .dataframe tbody tr th:only-of-type {\n",
       "        vertical-align: middle;\n",
       "    }\n",
       "\n",
       "    .dataframe tbody tr th {\n",
       "        vertical-align: top;\n",
       "    }\n",
       "\n",
       "    .dataframe thead th {\n",
       "        text-align: right;\n",
       "    }\n",
       "</style>\n",
       "<table border=\"1\" class=\"dataframe\">\n",
       "  <thead>\n",
       "    <tr style=\"text-align: right;\">\n",
       "      <th></th>\n",
       "      <th>Date</th>\n",
       "      <th>sat</th>\n",
       "      <th>lat</th>\n",
       "      <th>lon</th>\n",
       "      <th>T21</th>\n",
       "      <th>T31</th>\n",
       "      <th>FRP</th>\n",
       "      <th>conf</th>\n",
       "      <th>UID_Fire</th>\n",
       "      <th>Status</th>\n",
       "      <th>REF_ID</th>\n",
       "    </tr>\n",
       "  </thead>\n",
       "  <tbody>\n",
       "    <tr>\n",
       "      <th>0</th>\n",
       "      <td>2010-08-16</td>\n",
       "      <td>T</td>\n",
       "      <td>50.388</td>\n",
       "      <td>-127.290</td>\n",
       "      <td>307.3</td>\n",
       "      <td>293.0</td>\n",
       "      <td>9.3</td>\n",
       "      <td>71</td>\n",
       "      <td>547</td>\n",
       "      <td>primary</td>\n",
       "      <td>BC-2010-V90985</td>\n",
       "    </tr>\n",
       "    <tr>\n",
       "      <th>1</th>\n",
       "      <td>2010-07-21</td>\n",
       "      <td>A</td>\n",
       "      <td>49.199</td>\n",
       "      <td>-124.104</td>\n",
       "      <td>317.4</td>\n",
       "      <td>286.1</td>\n",
       "      <td>110.9</td>\n",
       "      <td>95</td>\n",
       "      <td>541</td>\n",
       "      <td>primary</td>\n",
       "      <td>BC-2010-V70506</td>\n",
       "    </tr>\n",
       "    <tr>\n",
       "      <th>2</th>\n",
       "      <td>2010-07-21</td>\n",
       "      <td>A</td>\n",
       "      <td>49.201</td>\n",
       "      <td>-124.111</td>\n",
       "      <td>305.8</td>\n",
       "      <td>285.8</td>\n",
       "      <td>32.3</td>\n",
       "      <td>66</td>\n",
       "      <td>541</td>\n",
       "      <td>primary</td>\n",
       "      <td>BC-2010-V70506</td>\n",
       "    </tr>\n",
       "    <tr>\n",
       "      <th>3</th>\n",
       "      <td>2010-08-14</td>\n",
       "      <td>T</td>\n",
       "      <td>48.492</td>\n",
       "      <td>-124.029</td>\n",
       "      <td>301.9</td>\n",
       "      <td>290.2</td>\n",
       "      <td>5.1</td>\n",
       "      <td>45</td>\n",
       "      <td>538</td>\n",
       "      <td>primary</td>\n",
       "      <td>BC-2010-V60945</td>\n",
       "    </tr>\n",
       "    <tr>\n",
       "      <th>4</th>\n",
       "      <td>2010-08-14</td>\n",
       "      <td>T</td>\n",
       "      <td>48.491</td>\n",
       "      <td>-124.043</td>\n",
       "      <td>357.2</td>\n",
       "      <td>294.9</td>\n",
       "      <td>84.1</td>\n",
       "      <td>100</td>\n",
       "      <td>538</td>\n",
       "      <td>primary</td>\n",
       "      <td>BC-2010-V60945</td>\n",
       "    </tr>\n",
       "  </tbody>\n",
       "</table>\n",
       "</div>"
      ],
      "text/plain": [
       "         Date sat     lat      lon    T21    T31    FRP  conf  UID_Fire  \\\n",
       "0  2010-08-16   T  50.388 -127.290  307.3  293.0    9.3    71       547   \n",
       "1  2010-07-21   A  49.199 -124.104  317.4  286.1  110.9    95       541   \n",
       "2  2010-07-21   A  49.201 -124.111  305.8  285.8   32.3    66       541   \n",
       "3  2010-08-14   T  48.492 -124.029  301.9  290.2    5.1    45       538   \n",
       "4  2010-08-14   T  48.491 -124.043  357.2  294.9   84.1   100       538   \n",
       "\n",
       "    Status          REF_ID  \n",
       "0  primary  BC-2010-V90985  \n",
       "1  primary  BC-2010-V70506  \n",
       "2  primary  BC-2010-V70506  \n",
       "3  primary  BC-2010-V60945  \n",
       "4  primary  BC-2010-V60945  "
      ]
     },
     "metadata": {},
     "output_type": "display_data"
    },
    {
     "data": {
      "text/plain": [
       "(164240, 11)"
      ]
     },
     "metadata": {},
     "output_type": "display_data"
    }
   ],
   "source": [
    "display(df_aob.head())\n",
    "display(df_aob.shape)\n",
    "display(df_characteristics.head())\n",
    "display(df_characteristics.shape)"
   ]
  },
  {
   "cell_type": "code",
   "execution_count": null,
   "id": "cef61866",
   "metadata": {},
   "outputs": [],
   "source": []
  }
 ],
 "metadata": {
  "kernelspec": {
   "display_name": "Python 3 (ipykernel)",
   "language": "python",
   "name": "python3"
  },
  "language_info": {
   "codemirror_mode": {
    "name": "ipython",
    "version": 3
   },
   "file_extension": ".py",
   "mimetype": "text/x-python",
   "name": "python",
   "nbconvert_exporter": "python",
   "pygments_lexer": "ipython3",
   "version": "3.9.7"
  }
 },
 "nbformat": 4,
 "nbformat_minor": 5
}
