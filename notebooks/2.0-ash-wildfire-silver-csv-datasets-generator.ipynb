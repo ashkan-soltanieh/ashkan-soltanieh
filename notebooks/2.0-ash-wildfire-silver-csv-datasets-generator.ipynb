{
 "cells": [
  {
   "cell_type": "markdown",
   "id": "bb9cb6bc",
   "metadata": {},
   "source": [
    "# Silver Dataset Generation using Wildfire Spatial Data\n",
    "<font size=3><strong>Author:</strong> <a href=\"https://www.linkedin.com/in/~ashkan/\" target=\"_blank\">Ashkan Soltanieh</a><br>\n",
    "<strong>Date:</strong>  Jan. 8, 2022</font>"
   ]
  },
  {
   "cell_type": "markdown",
   "id": "012be9ac",
   "metadata": {},
   "source": [
    "## Table of Contents\n",
    "\n",
    "<div class=\"alert alert-success mt-20\">\n",
    "    <ul>\n",
    "        <li><a href=\"#Approach\">Approach</a></li>\n",
    "        <li><a href=\"#Area of Burn Data\">Area of Burn Data</a></li>\n",
    "        <li><a href=\"#Characteristics Data\">Characteristics Data</a></li>\n",
    "        <li><a href=\"#Temprature Standardization\">Temperature Standardization</a></li>\n",
    "        <li><a href=\"#Metadata\">Metadata</a></li>\n",
    "    </ul>\n",
    "</div>"
   ]
  },
  {
   "cell_type": "markdown",
   "id": "e691e4da",
   "metadata": {},
   "source": [
    "## Approach:\n",
    "Raw uncleaned (bronze) dataset will be further refined in this notebood, the wildfire data in two different csv files will be merged and aggregated so that each row will represent an individual fire accident.\n",
    "\n",
    "The lateral and longitude data are rounded to the nearest quarter number to match the scraped weather data, so part of the characteristics data cleaning is determining <code>rounded_lat</code> and <code>rounded_lon</code> data."
   ]
  },
  {
   "cell_type": "markdown",
   "id": "fb045703",
   "metadata": {},
   "source": [
    "## Area of Burn Data\n",
    "The area of burn(AoB) data in form of Polygon. The AoB has been selected as the label data. Each Polygon object has an area property which will be used to obtain these data. Each row of AoB cannot be uniquely identified by any of the other columns. Therefore, we will be aggregating the area data by UID_Fire, Date of Burn, and REF_ID (Unique Identifier). Here are the unused variable which will be dropped from the dataset:<br>\n",
    "\n",
    "**Dropped Columns:**<br>\n",
    "> **FD_Agency:** Redundant data as all data in current dataset are from Canada<br>\n",
    "> **JD, date_src, Year:** Date related data are covered in characteristics dataset. Only Map_Date is kept.<br>\n",
    "\n",
    "It's observed that for a UID_Fire and REF_ID of a fire for each day can have multiple area recordings; therefore, the area are aggregated by sum to show total burn area for each fire of each day."
   ]
  },
  {
   "cell_type": "markdown",
   "id": "a7d60e74",
   "metadata": {},
   "source": [
    "## Characteristics Data\n",
    "Most of the variables in this dataset will be selected as features. In this notebook, the variables with missing or redundant information are dropped. Below is the list of the dropped variables and the reason behind making this decision:\n",
    "\n",
    "**Dropped Columns:**<br>\n",
    "> **FD_Agency:** Redundant data as all data in current dataset are from Canada<br>\n",
    "> **dn:** This variable is missing for observations before 2016. We dropped it for consistency purpose among all observation<br>\n",
    "> **HHMM:** Time vairable will not be used as index as fire data will be aggregated daily like weather data<br>\n",
    "> **sample:** Other identifiers are used instead of this variable<br>\n",
    "> **type:** It's redundant for Alberta and British Columnbia dataset as only type zero(presumed vegetation fire) exist in the table<br>\n",
    "> **geometry:** There is EPSG 4326 representation of the point in lat/lng columns.<br>"
   ]
  },
  {
   "cell_type": "markdown",
   "id": "8cc51c2a",
   "metadata": {},
   "source": [
    "## Temperature Standardization\n",
    "T21 and T31 brightness temperature of fire data are in Kelvin unit. For easier understanding, their value of are replaced by Celsius equivalent. It is added into the python script at <code>src/data/wildfire.py</code> module."
   ]
  },
  {
   "cell_type": "code",
   "execution_count": 1,
   "id": "1a86026c",
   "metadata": {},
   "outputs": [],
   "source": [
    "import os\n",
    "import numpy as np\n",
    "import pandas as pd\n",
    "from shapely.wkt import loads\n",
    "import sys\n",
    "from IPython.display import display"
   ]
  },
  {
   "cell_type": "code",
   "execution_count": 2,
   "id": "ff729e6a",
   "metadata": {
    "scrolled": true
   },
   "outputs": [],
   "source": [
    "#bronze datasets path for wildfire\n",
    "path_aob_bronze = os.path.abspath(os.path.join(os.getcwd(), '../data/processed/wildfire/bronze/bronze_AoB.csv'))\n",
    "path_characteristics_bronze = os.path.abspath(os.path.join(os.getcwd(), '../data/processed/wildfire/bronze/bronze_chracteristics.csv'))"
   ]
  },
  {
   "cell_type": "markdown",
   "id": "d11e7338",
   "metadata": {},
   "source": [
    "## Decision making on wildfire data aggregation type\n",
    "### Area of burn"
   ]
  },
  {
   "cell_type": "markdown",
   "id": "b501dc02",
   "metadata": {},
   "source": [
    "Both area of burn data, and characteristics data have duplication in their suggested indices. According to MODIS documentation, each fire can be uniquly identified by <code>['UID_Fire', 'REF_ID', 'Map_Date']</code>. However, from our observation there are over 425k row duplicated data based on this criteria."
   ]
  },
  {
   "cell_type": "code",
   "execution_count": 3,
   "id": "8d8b9e8b",
   "metadata": {
    "scrolled": true
   },
   "outputs": [
    {
     "data": {
      "text/plain": [
       "'Duplicated area of burn records: '"
      ]
     },
     "metadata": {},
     "output_type": "display_data"
    },
    {
     "data": {
      "text/plain": [
       "(array([False,  True]), array([ 14891, 425632]))"
      ]
     },
     "metadata": {},
     "output_type": "display_data"
    }
   ],
   "source": [
    "df_aob = pd.read_csv(path_aob_bronze, dtype={'UID_Fire': str}).set_index(['UID_Fire', 'REF_ID', 'Map_Date'])\n",
    "display('Duplicated area of burn records: ', np.unique(df_aob.index.duplicated(), return_counts=True))"
   ]
  },
  {
   "cell_type": "markdown",
   "id": "6e0bb739",
   "metadata": {},
   "source": [
    "This indicates multiple area of burns can be caused by a single fire. To accurately aggregete these data, we will be using sum of areas for grouping besed in provided unique identifiers for area of burn."
   ]
  },
  {
   "cell_type": "markdown",
   "id": "369d8de8",
   "metadata": {},
   "source": [
    "### Characteristics"
   ]
  },
  {
   "cell_type": "code",
   "execution_count": 4,
   "id": "5db7d782",
   "metadata": {
    "scrolled": true
   },
   "outputs": [
    {
     "data": {
      "text/plain": [
       "'Duplicated characteristics records: '"
      ]
     },
     "metadata": {},
     "output_type": "display_data"
    },
    {
     "data": {
      "text/plain": [
       "(array([False,  True]), array([  8268, 155972]))"
      ]
     },
     "metadata": {},
     "output_type": "display_data"
    }
   ],
   "source": [
    "df_characteristics = pd.read_csv(path_characteristics_bronze, low_memory = False).set_index(['UID_Fire', 'REF_ID', 'YYYYMMDD'])\n",
    "display('Duplicated characteristics records: ', np.unique(df_characteristics.index.duplicated(), return_counts=True))"
   ]
  },
  {
   "cell_type": "markdown",
   "id": "6443ee19",
   "metadata": {},
   "source": [
    "It seems like similarly to area of burn data, characteristics data also shown around 156k records of duplicated indicies. A quick look over the characteristics data shows that these data can additionally be categrized by satelite, fire status and latitude and longitde location. To make more efficient data aggregation, we're also rounding latitude and longitude data to their nearest quarter to match weather data recording and make them more identifiable by area of burn data.\n",
    "\n",
    "Characteristics data are aggregated for mean and standard deviation for contineous variables based on the following list of categorical variables <code>['Date', 'sat', 'UID_Fire', 'Status', 'REF_ID', 'rounded_lat', 'rounded_lon']</code>. "
   ]
  },
  {
   "cell_type": "code",
   "execution_count": 6,
   "id": "9bfac6ed",
   "metadata": {},
   "outputs": [],
   "source": [
    "# create the silver dataframe using custom script\n",
    "sys.path.insert(1, os.path.abspath(os.path.join(os.getcwd(),\"..\",\"src/data\")))\n",
    "from wildfire import make_silver_dataframes\n",
    "\n",
    "df_aob, df_characteristics = make_silver_dataframes(path_aob_bronze, path_characteristics_bronze)"
   ]
  },
  {
   "cell_type": "code",
   "execution_count": 9,
   "id": "9e04fa5a",
   "metadata": {},
   "outputs": [],
   "source": [
    "# save extracted cleaned dataframe into silver datasets\n",
    "path_aob = os.path.abspath(\n",
    "        os.path.join(os.getcwd(), \"../data/processed/wildfire/silver/silver_AoB.csv\"))\n",
    "path_characteristics = os.path.abspath(\n",
    "        os.path.join(os.getcwd(), \"../data/processed/wildfire/silver/silver_chracteristics.csv\"))\n",
    "\n",
    "df_aob.to_csv(path_aob, index = True)\n",
    "df_characteristics.to_csv(path_characteristics, index = True)"
   ]
  },
  {
   "cell_type": "markdown",
   "id": "3726958e",
   "metadata": {},
   "source": [
    "## Metadata"
   ]
  },
  {
   "cell_type": "code",
   "execution_count": 10,
   "id": "233cf139",
   "metadata": {},
   "outputs": [
    {
     "data": {
      "text/html": [
       "<div>\n",
       "<style scoped>\n",
       "    .dataframe tbody tr th:only-of-type {\n",
       "        vertical-align: middle;\n",
       "    }\n",
       "\n",
       "    .dataframe tbody tr th {\n",
       "        vertical-align: top;\n",
       "    }\n",
       "\n",
       "    .dataframe thead th {\n",
       "        text-align: right;\n",
       "    }\n",
       "</style>\n",
       "<table border=\"1\" class=\"dataframe\">\n",
       "  <thead>\n",
       "    <tr style=\"text-align: right;\">\n",
       "      <th></th>\n",
       "      <th></th>\n",
       "      <th></th>\n",
       "      <th>Total_AoB</th>\n",
       "    </tr>\n",
       "    <tr>\n",
       "      <th>UID_Fire</th>\n",
       "      <th>REF_ID</th>\n",
       "      <th>Date_of_Burn</th>\n",
       "      <th></th>\n",
       "    </tr>\n",
       "  </thead>\n",
       "  <tbody>\n",
       "    <tr>\n",
       "      <th rowspan=\"2\" valign=\"top\">100</th>\n",
       "      <th>BC-2011-V30040</th>\n",
       "      <th>2011-05-20</th>\n",
       "      <td>0.021933</td>\n",
       "    </tr>\n",
       "    <tr>\n",
       "      <th>BC-2014-G80090</th>\n",
       "      <th>2014-05-31</th>\n",
       "      <td>0.107307</td>\n",
       "    </tr>\n",
       "    <tr>\n",
       "      <th rowspan=\"3\" valign=\"top\">1000</th>\n",
       "      <th>AB-2014-HWF124</th>\n",
       "      <th>2014-06-29</th>\n",
       "      <td>0.255955</td>\n",
       "    </tr>\n",
       "    <tr>\n",
       "      <th>AB-2015-SWF061</th>\n",
       "      <th>2015-05-22</th>\n",
       "      <td>0.022832</td>\n",
       "    </tr>\n",
       "    <tr>\n",
       "      <th>AB-2016-EWF008</th>\n",
       "      <th>2016-04-08</th>\n",
       "      <td>0.010350</td>\n",
       "    </tr>\n",
       "  </tbody>\n",
       "</table>\n",
       "</div>"
      ],
      "text/plain": [
       "                                      Total_AoB\n",
       "UID_Fire REF_ID         Date_of_Burn           \n",
       "100      BC-2011-V30040 2011-05-20     0.021933\n",
       "         BC-2014-G80090 2014-05-31     0.107307\n",
       "1000     AB-2014-HWF124 2014-06-29     0.255955\n",
       "         AB-2015-SWF061 2015-05-22     0.022832\n",
       "         AB-2016-EWF008 2016-04-08     0.010350"
      ]
     },
     "metadata": {},
     "output_type": "display_data"
    },
    {
     "data": {
      "text/plain": [
       "(14891, 1)"
      ]
     },
     "metadata": {},
     "output_type": "display_data"
    },
    {
     "data": {
      "text/html": [
       "<div>\n",
       "<style scoped>\n",
       "    .dataframe tbody tr th:only-of-type {\n",
       "        vertical-align: middle;\n",
       "    }\n",
       "\n",
       "    .dataframe tbody tr th {\n",
       "        vertical-align: top;\n",
       "    }\n",
       "\n",
       "    .dataframe thead th {\n",
       "        text-align: right;\n",
       "    }\n",
       "</style>\n",
       "<table border=\"1\" class=\"dataframe\">\n",
       "  <thead>\n",
       "    <tr style=\"text-align: right;\">\n",
       "      <th></th>\n",
       "      <th></th>\n",
       "      <th></th>\n",
       "      <th></th>\n",
       "      <th></th>\n",
       "      <th></th>\n",
       "      <th></th>\n",
       "      <th>lat_mean</th>\n",
       "      <th>lat_std</th>\n",
       "      <th>lon_mean</th>\n",
       "      <th>lon_std</th>\n",
       "      <th>T21_mean</th>\n",
       "      <th>T21_std</th>\n",
       "      <th>T31_mean</th>\n",
       "      <th>T31_std</th>\n",
       "      <th>FRP_mean</th>\n",
       "      <th>FRP_std</th>\n",
       "      <th>conf_mean</th>\n",
       "      <th>conf_std</th>\n",
       "    </tr>\n",
       "    <tr>\n",
       "      <th>Date</th>\n",
       "      <th>sat</th>\n",
       "      <th>UID_Fire</th>\n",
       "      <th>Status</th>\n",
       "      <th>REF_ID</th>\n",
       "      <th>rounded_lat</th>\n",
       "      <th>rounded_lon</th>\n",
       "      <th></th>\n",
       "      <th></th>\n",
       "      <th></th>\n",
       "      <th></th>\n",
       "      <th></th>\n",
       "      <th></th>\n",
       "      <th></th>\n",
       "      <th></th>\n",
       "      <th></th>\n",
       "      <th></th>\n",
       "      <th></th>\n",
       "      <th></th>\n",
       "    </tr>\n",
       "  </thead>\n",
       "  <tbody>\n",
       "    <tr>\n",
       "      <th rowspan=\"2\" valign=\"top\">2010-01-12</th>\n",
       "      <th>A</th>\n",
       "      <th>313</th>\n",
       "      <th>removed</th>\n",
       "      <th>BC-2010-G40151</th>\n",
       "      <th>53.75</th>\n",
       "      <th>-124.25</th>\n",
       "      <td>53.829</td>\n",
       "      <td>0.000000</td>\n",
       "      <td>-124.3320</td>\n",
       "      <td>0.000000</td>\n",
       "      <td>69.75</td>\n",
       "      <td>0.000000</td>\n",
       "      <td>2.45</td>\n",
       "      <td>0.000000</td>\n",
       "      <td>110.7</td>\n",
       "      <td>0.000000</td>\n",
       "      <td>93.0</td>\n",
       "      <td>0.000000</td>\n",
       "    </tr>\n",
       "    <tr>\n",
       "      <th>T</th>\n",
       "      <th>313</th>\n",
       "      <th>removed</th>\n",
       "      <th>BC-2010-G40151</th>\n",
       "      <th>53.75</th>\n",
       "      <th>-124.25</th>\n",
       "      <td>53.832</td>\n",
       "      <td>0.000000</td>\n",
       "      <td>-124.3350</td>\n",
       "      <td>0.000000</td>\n",
       "      <td>44.35</td>\n",
       "      <td>0.000000</td>\n",
       "      <td>0.15</td>\n",
       "      <td>0.000000</td>\n",
       "      <td>82.7</td>\n",
       "      <td>0.000000</td>\n",
       "      <td>64.0</td>\n",
       "      <td>0.000000</td>\n",
       "    </tr>\n",
       "    <tr>\n",
       "      <th>2010-01-13</th>\n",
       "      <th>A</th>\n",
       "      <th>313</th>\n",
       "      <th>removed</th>\n",
       "      <th>BC-2010-G40151</th>\n",
       "      <th>53.75</th>\n",
       "      <th>-124.25</th>\n",
       "      <td>53.838</td>\n",
       "      <td>0.001414</td>\n",
       "      <td>-124.3265</td>\n",
       "      <td>0.010607</td>\n",
       "      <td>71.90</td>\n",
       "      <td>8.980256</td>\n",
       "      <td>-3.55</td>\n",
       "      <td>0.424264</td>\n",
       "      <td>63.8</td>\n",
       "      <td>18.526198</td>\n",
       "      <td>81.5</td>\n",
       "      <td>3.535534</td>\n",
       "    </tr>\n",
       "    <tr>\n",
       "      <th>2010-01-18</th>\n",
       "      <th>A</th>\n",
       "      <th>313</th>\n",
       "      <th>removed</th>\n",
       "      <th>BC-2010-G40151</th>\n",
       "      <th>53.75</th>\n",
       "      <th>-124.25</th>\n",
       "      <td>53.845</td>\n",
       "      <td>0.000000</td>\n",
       "      <td>-124.3020</td>\n",
       "      <td>0.000000</td>\n",
       "      <td>37.45</td>\n",
       "      <td>0.000000</td>\n",
       "      <td>-2.75</td>\n",
       "      <td>0.000000</td>\n",
       "      <td>25.8</td>\n",
       "      <td>0.000000</td>\n",
       "      <td>63.0</td>\n",
       "      <td>0.000000</td>\n",
       "    </tr>\n",
       "    <tr>\n",
       "      <th>2010-01-22</th>\n",
       "      <th>A</th>\n",
       "      <th>211</th>\n",
       "      <th>removed</th>\n",
       "      <th>BC-2010-C10299</th>\n",
       "      <th>53.25</th>\n",
       "      <th>-123.75</th>\n",
       "      <td>53.316</td>\n",
       "      <td>0.000000</td>\n",
       "      <td>-123.8560</td>\n",
       "      <td>0.000000</td>\n",
       "      <td>72.55</td>\n",
       "      <td>0.000000</td>\n",
       "      <td>-3.45</td>\n",
       "      <td>0.000000</td>\n",
       "      <td>60.5</td>\n",
       "      <td>0.000000</td>\n",
       "      <td>84.0</td>\n",
       "      <td>0.000000</td>\n",
       "    </tr>\n",
       "  </tbody>\n",
       "</table>\n",
       "</div>"
      ],
      "text/plain": [
       "                                                                        lat_mean  \\\n",
       "Date       sat UID_Fire Status  REF_ID         rounded_lat rounded_lon             \n",
       "2010-01-12 A   313      removed BC-2010-G40151 53.75       -124.25        53.829   \n",
       "           T   313      removed BC-2010-G40151 53.75       -124.25        53.832   \n",
       "2010-01-13 A   313      removed BC-2010-G40151 53.75       -124.25        53.838   \n",
       "2010-01-18 A   313      removed BC-2010-G40151 53.75       -124.25        53.845   \n",
       "2010-01-22 A   211      removed BC-2010-C10299 53.25       -123.75        53.316   \n",
       "\n",
       "                                                                         lat_std  \\\n",
       "Date       sat UID_Fire Status  REF_ID         rounded_lat rounded_lon             \n",
       "2010-01-12 A   313      removed BC-2010-G40151 53.75       -124.25      0.000000   \n",
       "           T   313      removed BC-2010-G40151 53.75       -124.25      0.000000   \n",
       "2010-01-13 A   313      removed BC-2010-G40151 53.75       -124.25      0.001414   \n",
       "2010-01-18 A   313      removed BC-2010-G40151 53.75       -124.25      0.000000   \n",
       "2010-01-22 A   211      removed BC-2010-C10299 53.25       -123.75      0.000000   \n",
       "\n",
       "                                                                        lon_mean  \\\n",
       "Date       sat UID_Fire Status  REF_ID         rounded_lat rounded_lon             \n",
       "2010-01-12 A   313      removed BC-2010-G40151 53.75       -124.25     -124.3320   \n",
       "           T   313      removed BC-2010-G40151 53.75       -124.25     -124.3350   \n",
       "2010-01-13 A   313      removed BC-2010-G40151 53.75       -124.25     -124.3265   \n",
       "2010-01-18 A   313      removed BC-2010-G40151 53.75       -124.25     -124.3020   \n",
       "2010-01-22 A   211      removed BC-2010-C10299 53.25       -123.75     -123.8560   \n",
       "\n",
       "                                                                         lon_std  \\\n",
       "Date       sat UID_Fire Status  REF_ID         rounded_lat rounded_lon             \n",
       "2010-01-12 A   313      removed BC-2010-G40151 53.75       -124.25      0.000000   \n",
       "           T   313      removed BC-2010-G40151 53.75       -124.25      0.000000   \n",
       "2010-01-13 A   313      removed BC-2010-G40151 53.75       -124.25      0.010607   \n",
       "2010-01-18 A   313      removed BC-2010-G40151 53.75       -124.25      0.000000   \n",
       "2010-01-22 A   211      removed BC-2010-C10299 53.25       -123.75      0.000000   \n",
       "\n",
       "                                                                        T21_mean  \\\n",
       "Date       sat UID_Fire Status  REF_ID         rounded_lat rounded_lon             \n",
       "2010-01-12 A   313      removed BC-2010-G40151 53.75       -124.25         69.75   \n",
       "           T   313      removed BC-2010-G40151 53.75       -124.25         44.35   \n",
       "2010-01-13 A   313      removed BC-2010-G40151 53.75       -124.25         71.90   \n",
       "2010-01-18 A   313      removed BC-2010-G40151 53.75       -124.25         37.45   \n",
       "2010-01-22 A   211      removed BC-2010-C10299 53.25       -123.75         72.55   \n",
       "\n",
       "                                                                         T21_std  \\\n",
       "Date       sat UID_Fire Status  REF_ID         rounded_lat rounded_lon             \n",
       "2010-01-12 A   313      removed BC-2010-G40151 53.75       -124.25      0.000000   \n",
       "           T   313      removed BC-2010-G40151 53.75       -124.25      0.000000   \n",
       "2010-01-13 A   313      removed BC-2010-G40151 53.75       -124.25      8.980256   \n",
       "2010-01-18 A   313      removed BC-2010-G40151 53.75       -124.25      0.000000   \n",
       "2010-01-22 A   211      removed BC-2010-C10299 53.25       -123.75      0.000000   \n",
       "\n",
       "                                                                        T31_mean  \\\n",
       "Date       sat UID_Fire Status  REF_ID         rounded_lat rounded_lon             \n",
       "2010-01-12 A   313      removed BC-2010-G40151 53.75       -124.25          2.45   \n",
       "           T   313      removed BC-2010-G40151 53.75       -124.25          0.15   \n",
       "2010-01-13 A   313      removed BC-2010-G40151 53.75       -124.25         -3.55   \n",
       "2010-01-18 A   313      removed BC-2010-G40151 53.75       -124.25         -2.75   \n",
       "2010-01-22 A   211      removed BC-2010-C10299 53.25       -123.75         -3.45   \n",
       "\n",
       "                                                                         T31_std  \\\n",
       "Date       sat UID_Fire Status  REF_ID         rounded_lat rounded_lon             \n",
       "2010-01-12 A   313      removed BC-2010-G40151 53.75       -124.25      0.000000   \n",
       "           T   313      removed BC-2010-G40151 53.75       -124.25      0.000000   \n",
       "2010-01-13 A   313      removed BC-2010-G40151 53.75       -124.25      0.424264   \n",
       "2010-01-18 A   313      removed BC-2010-G40151 53.75       -124.25      0.000000   \n",
       "2010-01-22 A   211      removed BC-2010-C10299 53.25       -123.75      0.000000   \n",
       "\n",
       "                                                                        FRP_mean  \\\n",
       "Date       sat UID_Fire Status  REF_ID         rounded_lat rounded_lon             \n",
       "2010-01-12 A   313      removed BC-2010-G40151 53.75       -124.25         110.7   \n",
       "           T   313      removed BC-2010-G40151 53.75       -124.25          82.7   \n",
       "2010-01-13 A   313      removed BC-2010-G40151 53.75       -124.25          63.8   \n",
       "2010-01-18 A   313      removed BC-2010-G40151 53.75       -124.25          25.8   \n",
       "2010-01-22 A   211      removed BC-2010-C10299 53.25       -123.75          60.5   \n",
       "\n",
       "                                                                          FRP_std  \\\n",
       "Date       sat UID_Fire Status  REF_ID         rounded_lat rounded_lon              \n",
       "2010-01-12 A   313      removed BC-2010-G40151 53.75       -124.25       0.000000   \n",
       "           T   313      removed BC-2010-G40151 53.75       -124.25       0.000000   \n",
       "2010-01-13 A   313      removed BC-2010-G40151 53.75       -124.25      18.526198   \n",
       "2010-01-18 A   313      removed BC-2010-G40151 53.75       -124.25       0.000000   \n",
       "2010-01-22 A   211      removed BC-2010-C10299 53.25       -123.75       0.000000   \n",
       "\n",
       "                                                                        conf_mean  \\\n",
       "Date       sat UID_Fire Status  REF_ID         rounded_lat rounded_lon              \n",
       "2010-01-12 A   313      removed BC-2010-G40151 53.75       -124.25           93.0   \n",
       "           T   313      removed BC-2010-G40151 53.75       -124.25           64.0   \n",
       "2010-01-13 A   313      removed BC-2010-G40151 53.75       -124.25           81.5   \n",
       "2010-01-18 A   313      removed BC-2010-G40151 53.75       -124.25           63.0   \n",
       "2010-01-22 A   211      removed BC-2010-C10299 53.25       -123.75           84.0   \n",
       "\n",
       "                                                                        conf_std  \n",
       "Date       sat UID_Fire Status  REF_ID         rounded_lat rounded_lon            \n",
       "2010-01-12 A   313      removed BC-2010-G40151 53.75       -124.25      0.000000  \n",
       "           T   313      removed BC-2010-G40151 53.75       -124.25      0.000000  \n",
       "2010-01-13 A   313      removed BC-2010-G40151 53.75       -124.25      3.535534  \n",
       "2010-01-18 A   313      removed BC-2010-G40151 53.75       -124.25      0.000000  \n",
       "2010-01-22 A   211      removed BC-2010-C10299 53.25       -123.75      0.000000  "
      ]
     },
     "metadata": {},
     "output_type": "display_data"
    },
    {
     "data": {
      "text/plain": [
       "(25442, 12)"
      ]
     },
     "metadata": {},
     "output_type": "display_data"
    }
   ],
   "source": [
    "display(df_aob.head())\n",
    "display(df_aob.shape)\n",
    "display(df_characteristics.head())\n",
    "display(df_characteristics.shape)"
   ]
  },
  {
   "cell_type": "markdown",
   "id": "3fa827a1",
   "metadata": {},
   "source": [
    "## <h3 align=\"center\"> Copyright © 2022 - All rights reserved by the author.<h3/>"
   ]
  },
  {
   "cell_type": "code",
   "execution_count": null,
   "id": "eb946a04",
   "metadata": {},
   "outputs": [],
   "source": []
  }
 ],
 "metadata": {
  "kernelspec": {
   "display_name": "Python 3 (ipykernel)",
   "language": "python",
   "name": "python3"
  },
  "language_info": {
   "codemirror_mode": {
    "name": "ipython",
    "version": 3
   },
   "file_extension": ".py",
   "mimetype": "text/x-python",
   "name": "python",
   "nbconvert_exporter": "python",
   "pygments_lexer": "ipython3",
   "version": "3.9.7"
  }
 },
 "nbformat": 4,
 "nbformat_minor": 5
}
