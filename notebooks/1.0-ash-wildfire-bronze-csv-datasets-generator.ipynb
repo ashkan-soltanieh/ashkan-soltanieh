{
 "cells": [
  {
   "cell_type": "markdown",
   "id": "e691e4da",
   "metadata": {},
   "source": [
    "# Overview:\n",
    "The dataset is subset of *[ABoVE: Wildfire Date of Burning within Fire Scars across Alaska and Canada, 2001-2019](https://daac.ornl.gov/ABOVE/guides/Wildfires_Date_of_Burning.html)* where Alberta and British Colombia related wildfire data has been extracted.\n",
    "\n",
    "# Approach:\n",
    "The raw data has been extracted from spatial datasets into pandas dataframe and stored as csv file into processed/bronze folder."
   ]
  },
  {
   "cell_type": "code",
   "execution_count": 44,
   "id": "1a86026c",
   "metadata": {},
   "outputs": [],
   "source": [
    "import os\n",
    "import geopandas\n",
    "import pandas as pd\n",
    "import sys"
   ]
  },
  {
   "cell_type": "code",
   "execution_count": 3,
   "id": "ff729e6a",
   "metadata": {
    "scrolled": true
   },
   "outputs": [],
   "source": [
    "# get data from data/raw folder and clean them\n",
    "paths_extents = []\n",
    "for i in range(0, 10):\n",
    "    path = os.path.abspath(os.path.join(os.getcwd(), '..', 'data/raw/wildfire/ABoVE_DoB_201' + str(i) + '/ABoVE_DoB_201' + str(i) + '.shp'))\n",
    "    paths_extents.append(path)\n",
    "\n",
    "gdf_extents = []\n",
    "for path in paths_extents:\n",
    "    gdf_extents.append(geopandas.GeoDataFrame.from_file(path))\n",
    "\n",
    "paths_locations = []\n",
    "for i in range(0, 10):\n",
    "    path = os.path.abspath(os.path.join(os.getcwd(), '..', 'data/raw/wildfire/ABoVE_DoB_MODIS_Active_Fires_201' + str(i) + '/ABoVE_DoB_MODIS_Active_Fires_201' + str(i) + '.shp'))\n",
    "    paths_locations.append(path)\n",
    "\n",
    "gdf_locations = []\n",
    "for path in paths_locations:\n",
    "    gdf_locations.append(geopandas.GeoDataFrame.from_file(path))"
   ]
  },
  {
   "cell_type": "code",
   "execution_count": 46,
   "id": "28d2974e",
   "metadata": {},
   "outputs": [],
   "source": [
    "sys.path.insert(1, os.path.abspath(os.path.join(os.getcwd(),\"..\",\"src/data\")))\n",
    "from wildfire import make_dataset_csv\n",
    "make_dataset_csv(gdf_extents, gdf_locations)"
   ]
  }
 ],
 "metadata": {
  "kernelspec": {
   "display_name": "Python 3 (ipykernel)",
   "language": "python",
   "name": "python3"
  },
  "language_info": {
   "codemirror_mode": {
    "name": "ipython",
    "version": 3
   },
   "file_extension": ".py",
   "mimetype": "text/x-python",
   "name": "python",
   "nbconvert_exporter": "python",
   "pygments_lexer": "ipython3",
   "version": "3.9.7"
  }
 },
 "nbformat": 4,
 "nbformat_minor": 5
}
